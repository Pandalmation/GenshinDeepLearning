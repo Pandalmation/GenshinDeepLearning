{
 "cells": [
  {
   "cell_type": "code",
<<<<<<< HEAD
   "execution_count": 1,
=======
   "execution_count": 19,
>>>>>>> ce2fc16e7fd6dbee417d1e6228d010544e34e88e
   "id": "0fb2e176-f4ed-4cfe-89fd-0a1a22416bd8",
   "metadata": {},
   "outputs": [
    {
     "name": "stdout",
     "output_type": "stream",
     "text": [
      "No GPU available, using the CPU instead\n"
     ]
    }
   ],
   "source": [
<<<<<<< HEAD
    "import torch\n",
    "\n",
    "# Check for ROCm devices\n",
    "if torch.cuda.is_available():\n",
    "    if torch.cuda.is_rocm_available():\n",
    "        device = torch.device('cuda')\n",
    "        print('Using the ROCm GPU: ', torch.cuda.get_device_name(0))\n",
    "        print(torch.cuda.is_available())\n",
    "        print(torch.version.cuda)\n",
    "    else:\n",
    "        print(\"CUDA is available, but ROCm is not supported on this system. Using CUDA instead.\")\n",
    "        device = torch.device('cuda')\n",
    "else:\n",
    "    print(\"No GPU available, using the CPU instead\")\n",
    "    device = torch.device(\"cpu\")"
=======
    "#im using CPU hehe\n",
    "import torch\n",
    "\n",
    "if torch.cuda.is_available():\n",
    "  device = torch.device('cuda')\n",
    "\n",
    "  print('there are %d GPU(s) available.' % torch.cuda.device_count())\n",
    "\n",
    "  print('we will use the GPU: ', torch.cuda.get_device_name(0))\n",
    "\n",
    "else:\n",
    "  print(\"No GPU available, using the CPU instead\")\n",
    "  device = torch.device(\"cpu\")"
>>>>>>> ce2fc16e7fd6dbee417d1e6228d010544e34e88e
   ]
  },
  {
   "cell_type": "code",
<<<<<<< HEAD
   "execution_count": 58,
   "id": "42b9ba51-5a01-49e4-93c0-893703de3d44",
   "metadata": {},
   "outputs": [],
   "source": [
    "#do pip install transformers if haven't\n",
    "# !pip install transformers"
=======
   "execution_count": 20,
   "id": "42b9ba51-5a01-49e4-93c0-893703de3d44",
   "metadata": {},
   "outputs": [
    {
     "name": "stdout",
     "output_type": "stream",
     "text": [
      "Requirement already satisfied: transformers in c:\\users\\tiffa\\appdata\\local\\programs\\python\\python310\\lib\\site-packages (4.35.2)\n",
      "Requirement already satisfied: filelock in c:\\users\\tiffa\\appdata\\local\\programs\\python\\python310\\lib\\site-packages (from transformers) (3.0.12)\n",
      "Requirement already satisfied: regex!=2019.12.17 in c:\\users\\tiffa\\appdata\\local\\programs\\python\\python310\\lib\\site-packages (from transformers) (2023.8.8)\n",
      "Requirement already satisfied: requests in c:\\users\\tiffa\\appdata\\local\\programs\\python\\python310\\lib\\site-packages (from transformers) (2.31.0)\n",
      "Requirement already satisfied: packaging>=20.0 in c:\\users\\tiffa\\appdata\\local\\programs\\python\\python310\\lib\\site-packages (from transformers) (23.1)\n",
      "Requirement already satisfied: tokenizers<0.19,>=0.14 in c:\\users\\tiffa\\appdata\\local\\programs\\python\\python310\\lib\\site-packages (from transformers) (0.15.0)\n",
      "Requirement already satisfied: pyyaml>=5.1 in c:\\users\\tiffa\\appdata\\local\\programs\\python\\python310\\lib\\site-packages (from transformers) (6.0)\n",
      "Requirement already satisfied: tqdm>=4.27 in c:\\users\\tiffa\\appdata\\local\\programs\\python\\python310\\lib\\site-packages (from transformers) (4.66.1)\n",
      "Requirement already satisfied: huggingface-hub<1.0,>=0.16.4 in c:\\users\\tiffa\\appdata\\local\\programs\\python\\python310\\lib\\site-packages (from transformers) (0.19.4)\n",
      "Requirement already satisfied: numpy>=1.17 in c:\\users\\tiffa\\appdata\\local\\programs\\python\\python310\\lib\\site-packages (from transformers) (1.24.3)\n",
      "Requirement already satisfied: safetensors>=0.3.1 in c:\\users\\tiffa\\appdata\\local\\programs\\python\\python310\\lib\\site-packages (from transformers) (0.4.1)\n",
      "Requirement already satisfied: fsspec>=2023.5.0 in c:\\users\\tiffa\\appdata\\local\\programs\\python\\python310\\lib\\site-packages (from huggingface-hub<1.0,>=0.16.4->transformers) (2023.10.0)\n",
      "Requirement already satisfied: typing-extensions>=3.7.4.3 in c:\\users\\tiffa\\appdata\\local\\programs\\python\\python310\\lib\\site-packages (from huggingface-hub<1.0,>=0.16.4->transformers) (4.5.0)\n",
      "Requirement already satisfied: colorama in c:\\users\\tiffa\\appdata\\local\\programs\\python\\python310\\lib\\site-packages (from tqdm>=4.27->transformers) (0.4.6)\n",
      "Requirement already satisfied: charset-normalizer<4,>=2 in c:\\users\\tiffa\\appdata\\local\\programs\\python\\python310\\lib\\site-packages (from requests->transformers) (3.1.0)\n",
      "Requirement already satisfied: idna<4,>=2.5 in c:\\users\\tiffa\\appdata\\local\\programs\\python\\python310\\lib\\site-packages (from requests->transformers) (3.4)\n",
      "Requirement already satisfied: certifi>=2017.4.17 in c:\\users\\tiffa\\appdata\\local\\programs\\python\\python310\\lib\\site-packages (from requests->transformers) (2023.5.7)\n",
      "Requirement already satisfied: urllib3<3,>=1.21.1 in c:\\users\\tiffa\\appdata\\local\\programs\\python\\python310\\lib\\site-packages (from requests->transformers) (1.25.11)\n"
     ]
    },
    {
     "name": "stderr",
     "output_type": "stream",
     "text": [
      "WARNING: You are using pip version 21.2.3; however, version 23.3.1 is available.\n",
      "You should consider upgrading via the 'C:\\Users\\tiffa\\AppData\\Local\\Programs\\Python\\Python310\\python.exe -m pip install --upgrade pip' command.\n"
     ]
    }
   ],
   "source": [
    "#do pip install transformers if haven't\n",
    "!pip install transformers"
>>>>>>> ce2fc16e7fd6dbee417d1e6228d010544e34e88e
   ]
  },
  {
   "cell_type": "code",
<<<<<<< HEAD
   "execution_count": 8,
=======
   "execution_count": 21,
>>>>>>> ce2fc16e7fd6dbee417d1e6228d010544e34e88e
   "id": "65b72b2d-35de-4b24-83f1-61533312ae85",
   "metadata": {},
   "outputs": [
    {
     "data": {
      "text/plain": [
       "(3116, 2)"
      ]
     },
<<<<<<< HEAD
     "execution_count": 8,
=======
     "execution_count": 21,
>>>>>>> ce2fc16e7fd6dbee417d1e6228d010544e34e88e
     "metadata": {},
     "output_type": "execute_result"
    }
   ],
   "source": [
    "import pandas as pd\n",
    "\n",
<<<<<<< HEAD
    "df = pd.read_csv(\"./data/GenshinReview.csv\")\n",
=======
    "df = pd.read_csv(\"./GenshinReview.csv\")\n",
>>>>>>> ce2fc16e7fd6dbee417d1e6228d010544e34e88e
    "df.shape"
   ]
  },
  {
   "cell_type": "code",
<<<<<<< HEAD
   "execution_count": 9,
=======
   "execution_count": 22,
>>>>>>> ce2fc16e7fd6dbee417d1e6228d010544e34e88e
   "id": "2f0730da-a87e-41fb-92d8-81eb892d8ec6",
   "metadata": {},
   "outputs": [
    {
     "data": {
      "text/html": [
       "<div>\n",
       "<style scoped>\n",
       "    .dataframe tbody tr th:only-of-type {\n",
       "        vertical-align: middle;\n",
       "    }\n",
       "\n",
       "    .dataframe tbody tr th {\n",
       "        vertical-align: top;\n",
       "    }\n",
       "\n",
       "    .dataframe thead th {\n",
       "        text-align: right;\n",
       "    }\n",
       "</style>\n",
       "<table border=\"1\" class=\"dataframe\">\n",
       "  <thead>\n",
       "    <tr style=\"text-align: right;\">\n",
       "      <th></th>\n",
       "      <th>score</th>\n",
       "      <th>content</th>\n",
       "    </tr>\n",
       "  </thead>\n",
       "  <tbody>\n",
       "    <tr>\n",
<<<<<<< HEAD
       "      <th>2336</th>\n",
       "      <td>3</td>\n",
       "      <td>youre doing great with the map expansions puzz...</td>\n",
=======
       "      <th>678</th>\n",
       "      <td>5</td>\n",
       "      <td>i love everything about this game but i hope g...</td>\n",
       "    </tr>\n",
       "    <tr>\n",
       "      <th>1375</th>\n",
       "      <td>4</td>\n",
       "      <td>it is an amazing game the graphics are on a di...</td>\n",
       "    </tr>\n",
       "    <tr>\n",
       "      <th>568</th>\n",
       "      <td>5</td>\n",
       "      <td>this was a great game i meet a lot of people t...</td>\n",
       "    </tr>\n",
       "    <tr>\n",
       "      <th>789</th>\n",
       "      <td>4</td>\n",
       "      <td>i have spent two years of my life in this game...</td>\n",
       "    </tr>\n",
       "    <tr>\n",
       "      <th>881</th>\n",
       "      <td>4</td>\n",
       "      <td>its a really amazing game tho i am stuck on th...</td>\n",
       "    </tr>\n",
       "    <tr>\n",
       "      <th>3008</th>\n",
       "      <td>1</td>\n",
       "      <td>i was just playing yesterday and now i cannot ...</td>\n",
       "    </tr>\n",
       "    <tr>\n",
       "      <th>755</th>\n",
       "      <td>5</td>\n",
       "      <td>you guys have no idea how much i love this gam...</td>\n",
       "    </tr>\n",
       "    <tr>\n",
       "      <th>2266</th>\n",
       "      <td>3</td>\n",
       "      <td>i love the game but the issue of resin limits ...</td>\n",
>>>>>>> ce2fc16e7fd6dbee417d1e6228d010544e34e88e
       "    </tr>\n",
       "    <tr>\n",
       "      <th>567</th>\n",
       "      <td>2</td>\n",
       "      <td>the security in this game needs fixing my year...</td>\n",
       "    </tr>\n",
       "    <tr>\n",
<<<<<<< HEAD
       "      <th>2248</th>\n",
       "      <td>3</td>\n",
       "      <td>genshin impact is a very pretty game with a lo...</td>\n",
       "    </tr>\n",
       "    <tr>\n",
       "      <th>2227</th>\n",
       "      <td>3</td>\n",
       "      <td>needs controller support playing this on my ta...</td>\n",
       "    </tr>\n",
       "    <tr>\n",
       "      <th>1263</th>\n",
       "      <td>5</td>\n",
       "      <td>so i just began the game i have only got amber...</td>\n",
       "    </tr>\n",
       "    <tr>\n",
       "      <th>1413</th>\n",
       "      <td>1</td>\n",
       "      <td>the game is great really fun controls are grea...</td>\n",
       "    </tr>\n",
       "    <tr>\n",
       "      <th>2275</th>\n",
       "      <td>3</td>\n",
       "      <td>played for more than a year or so but the prob...</td>\n",
       "    </tr>\n",
       "    <tr>\n",
       "      <th>1247</th>\n",
       "      <td>4</td>\n",
       "      <td>surprisingly high quality for a mobile game li...</td>\n",
       "    </tr>\n",
       "    <tr>\n",
       "      <th>38</th>\n",
       "      <td>5</td>\n",
       "      <td>i love that this lets you play through pve wit...</td>\n",
       "    </tr>\n",
       "    <tr>\n",
       "      <th>629</th>\n",
       "      <td>4</td>\n",
       "      <td>the storage space is not my problem but it sti...</td>\n",
=======
       "      <th>1587</th>\n",
       "      <td>4</td>\n",
       "      <td>may as well update my review i would give it f...</td>\n",
>>>>>>> ce2fc16e7fd6dbee417d1e6228d010544e34e88e
       "    </tr>\n",
       "  </tbody>\n",
       "</table>\n",
       "</div>"
      ],
      "text/plain": [
       "      score                                            content\n",
<<<<<<< HEAD
       "2336      3  youre doing great with the map expansions puzz...\n",
       "567       2  the security in this game needs fixing my year...\n",
       "2248      3  genshin impact is a very pretty game with a lo...\n",
       "2227      3  needs controller support playing this on my ta...\n",
       "1263      5  so i just began the game i have only got amber...\n",
       "1413      1  the game is great really fun controls are grea...\n",
       "2275      3  played for more than a year or so but the prob...\n",
       "1247      4  surprisingly high quality for a mobile game li...\n",
       "38        5  i love that this lets you play through pve wit...\n",
       "629       4  the storage space is not my problem but it sti..."
      ]
     },
     "execution_count": 9,
=======
       "678       5  i love everything about this game but i hope g...\n",
       "1375      4  it is an amazing game the graphics are on a di...\n",
       "568       5  this was a great game i meet a lot of people t...\n",
       "789       4  i have spent two years of my life in this game...\n",
       "881       4  its a really amazing game tho i am stuck on th...\n",
       "3008      1  i was just playing yesterday and now i cannot ...\n",
       "755       5  you guys have no idea how much i love this gam...\n",
       "2266      3  i love the game but the issue of resin limits ...\n",
       "567       2  the security in this game needs fixing my year...\n",
       "1587      4  may as well update my review i would give it f..."
      ]
     },
     "execution_count": 22,
>>>>>>> ce2fc16e7fd6dbee417d1e6228d010544e34e88e
     "metadata": {},
     "output_type": "execute_result"
    }
   ],
   "source": [
    "df.sample(10)"
   ]
  },
  {
   "cell_type": "code",
<<<<<<< HEAD
   "execution_count": 10,
=======
   "execution_count": 23,
>>>>>>> ce2fc16e7fd6dbee417d1e6228d010544e34e88e
   "id": "87e3612a-cbcb-43b2-93a3-30ae7f3f5956",
   "metadata": {},
   "outputs": [
    {
     "data": {
      "text/html": [
       "<div>\n",
       "<style scoped>\n",
       "    .dataframe tbody tr th:only-of-type {\n",
       "        vertical-align: middle;\n",
       "    }\n",
       "\n",
       "    .dataframe tbody tr th {\n",
       "        vertical-align: top;\n",
       "    }\n",
       "\n",
       "    .dataframe thead th {\n",
       "        text-align: right;\n",
       "    }\n",
       "</style>\n",
       "<table border=\"1\" class=\"dataframe\">\n",
       "  <thead>\n",
       "    <tr style=\"text-align: right;\">\n",
       "      <th></th>\n",
       "      <th>score</th>\n",
       "      <th>content</th>\n",
       "      <th>sentiment</th>\n",
       "    </tr>\n",
       "  </thead>\n",
       "  <tbody>\n",
       "    <tr>\n",
       "      <th>0</th>\n",
       "      <td>3</td>\n",
       "      <td>the game is amazing it is visuals characters a...</td>\n",
       "      <td>1</td>\n",
       "    </tr>\n",
       "    <tr>\n",
       "      <th>1</th>\n",
       "      <td>5</td>\n",
       "      <td>i have been playing for a year and a half now ...</td>\n",
       "      <td>2</td>\n",
       "    </tr>\n",
       "    <tr>\n",
       "      <th>2</th>\n",
       "      <td>5</td>\n",
       "      <td>graphics is very good and story line is best</td>\n",
       "      <td>2</td>\n",
       "    </tr>\n",
       "    <tr>\n",
       "      <th>3</th>\n",
       "      <td>5</td>\n",
       "      <td>it is a cool game but needs flagship lvl phone...</td>\n",
       "      <td>2</td>\n",
       "    </tr>\n",
       "    <tr>\n",
       "      <th>4</th>\n",
       "      <td>5</td>\n",
       "      <td>it is a best game but i have only one problem ...</td>\n",
       "      <td>2</td>\n",
       "    </tr>\n",
       "    <tr>\n",
       "      <th>5</th>\n",
       "      <td>5</td>\n",
       "      <td>nothing to say this is my first time play it a...</td>\n",
       "      <td>2</td>\n",
       "    </tr>\n",
       "    <tr>\n",
       "      <th>6</th>\n",
       "      <td>3</td>\n",
       "      <td>to big of a game on mobile its like six gb for...</td>\n",
       "      <td>1</td>\n",
       "    </tr>\n",
       "    <tr>\n",
       "      <th>7</th>\n",
       "      <td>5</td>\n",
       "      <td>what an amazing game huge map never had a lag ...</td>\n",
       "      <td>2</td>\n",
       "    </tr>\n",
       "    <tr>\n",
       "      <th>8</th>\n",
       "      <td>1</td>\n",
       "      <td>the new event does not even work properly the ...</td>\n",
       "      <td>0</td>\n",
       "    </tr>\n",
       "    <tr>\n",
       "      <th>9</th>\n",
       "      <td>5</td>\n",
       "      <td>i love this game its my favorite it is just th...</td>\n",
       "      <td>2</td>\n",
       "    </tr>\n",
       "    <tr>\n",
       "      <th>10</th>\n",
       "      <td>5</td>\n",
       "      <td>i love the story am at rank eight even though ...</td>\n",
       "      <td>2</td>\n",
       "    </tr>\n",
       "    <tr>\n",
       "      <th>11</th>\n",
       "      <td>5</td>\n",
       "      <td>best game evverrrr there is loads of descripti...</td>\n",
       "      <td>2</td>\n",
       "    </tr>\n",
       "    <tr>\n",
       "      <th>12</th>\n",
       "      <td>2</td>\n",
       "      <td>recently i have only been getting a black scre...</td>\n",
       "      <td>0</td>\n",
       "    </tr>\n",
       "    <tr>\n",
       "      <th>13</th>\n",
       "      <td>4</td>\n",
       "      <td>on a plus side the games a great combination o...</td>\n",
       "      <td>2</td>\n",
       "    </tr>\n",
       "    <tr>\n",
       "      <th>14</th>\n",
       "      <td>5</td>\n",
       "      <td>it is a very impressive game and have a very g...</td>\n",
       "      <td>2</td>\n",
       "    </tr>\n",
       "    <tr>\n",
       "      <th>15</th>\n",
       "      <td>5</td>\n",
       "      <td>this is my second life living as an adventurer...</td>\n",
       "      <td>2</td>\n",
       "    </tr>\n",
       "    <tr>\n",
       "      <th>16</th>\n",
       "      <td>2</td>\n",
       "      <td>too much grind unlike other gacha games still ...</td>\n",
       "      <td>0</td>\n",
       "    </tr>\n",
       "    <tr>\n",
       "      <th>17</th>\n",
       "      <td>5</td>\n",
       "      <td>i hope they add a arabic translation transcrip...</td>\n",
       "      <td>2</td>\n",
       "    </tr>\n",
       "    <tr>\n",
       "      <th>18</th>\n",
       "      <td>5</td>\n",
       "      <td>amazing game and free roam is the best part an...</td>\n",
       "      <td>2</td>\n",
       "    </tr>\n",
       "    <tr>\n",
       "      <th>19</th>\n",
       "      <td>5</td>\n",
       "      <td>good game so far just wish we could team up wi...</td>\n",
       "      <td>2</td>\n",
       "    </tr>\n",
       "  </tbody>\n",
       "</table>\n",
       "</div>"
      ],
      "text/plain": [
       "    score                                            content  sentiment\n",
       "0       3  the game is amazing it is visuals characters a...          1\n",
       "1       5  i have been playing for a year and a half now ...          2\n",
       "2       5       graphics is very good and story line is best          2\n",
       "3       5  it is a cool game but needs flagship lvl phone...          2\n",
       "4       5  it is a best game but i have only one problem ...          2\n",
       "5       5  nothing to say this is my first time play it a...          2\n",
       "6       3  to big of a game on mobile its like six gb for...          1\n",
       "7       5  what an amazing game huge map never had a lag ...          2\n",
       "8       1  the new event does not even work properly the ...          0\n",
       "9       5  i love this game its my favorite it is just th...          2\n",
       "10      5  i love the story am at rank eight even though ...          2\n",
       "11      5  best game evverrrr there is loads of descripti...          2\n",
       "12      2  recently i have only been getting a black scre...          0\n",
       "13      4  on a plus side the games a great combination o...          2\n",
       "14      5  it is a very impressive game and have a very g...          2\n",
       "15      5  this is my second life living as an adventurer...          2\n",
       "16      2  too much grind unlike other gacha games still ...          0\n",
       "17      5  i hope they add a arabic translation transcrip...          2\n",
       "18      5  amazing game and free roam is the best part an...          2\n",
       "19      5  good game so far just wish we could team up wi...          2"
      ]
     },
<<<<<<< HEAD
     "execution_count": 10,
=======
     "execution_count": 23,
>>>>>>> ce2fc16e7fd6dbee417d1e6228d010544e34e88e
     "metadata": {},
     "output_type": "execute_result"
    }
   ],
   "source": [
    "#creating label called sentiment from the score reviews\n",
    "#1-2: negative\n",
    "#3: neutral\n",
    "#4-5: positive\n",
    "\n",
    "def map_rating_to_sentiment(rating):\n",
    "    if rating in [1, 2]:\n",
    "        return 0\n",
    "    elif rating == 3:\n",
    "        return 1\n",
    "    elif rating in [4, 5]:\n",
    "        return 2\n",
    "\n",
    "df['sentiment'] = df['score'].apply(map_rating_to_sentiment)\n",
    "\n",
    "df.head(20)"
   ]
  },
  {
   "cell_type": "code",
<<<<<<< HEAD
   "execution_count": 11,
=======
   "execution_count": 24,
>>>>>>> ce2fc16e7fd6dbee417d1e6228d010544e34e88e
   "id": "a6118939-b00a-48c9-9b01-b3baa5187b4c",
   "metadata": {},
   "outputs": [
    {
     "data": {
<<<<<<< HEAD
      "image/png": "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",
=======
      "image/png": "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",
>>>>>>> ce2fc16e7fd6dbee417d1e6228d010544e34e88e
      "text/plain": [
       "<Figure size 640x480 with 1 Axes>"
      ]
     },
     "metadata": {},
     "output_type": "display_data"
    }
   ],
   "source": [
    "import seaborn as sns\n",
    "import matplotlib.pyplot as plt\n",
    "\n",
    "#for now we have 2000 rows of reviews. we'll add more data perhaps later if the accuracy is still bad.\n",
    "x = df.sentiment.value_counts()\n",
    "sns.barplot(x=x.index, y=x)\n",
    "plt.gca().set_ylabel('reviews')\n",
    "plt.show()"
   ]
  },
  {
   "cell_type": "code",
<<<<<<< HEAD
   "execution_count": 12,
=======
   "execution_count": 25,
>>>>>>> ce2fc16e7fd6dbee417d1e6228d010544e34e88e
   "id": "c82d19b5-ca60-478b-8520-31424da41efa",
   "metadata": {},
   "outputs": [],
   "source": [
    "sentences = df.content.values\n",
    "labels = df.sentiment.values"
   ]
  },
  {
   "cell_type": "code",
<<<<<<< HEAD
   "execution_count": 29,
=======
   "execution_count": 26,
>>>>>>> ce2fc16e7fd6dbee417d1e6228d010544e34e88e
   "id": "4f0f76fb-cbf8-473b-8897-ee818ca96763",
   "metadata": {},
   "outputs": [
    {
     "name": "stdout",
     "output_type": "stream",
     "text": [
      "Loading BERT Tokenizer\n"
     ]
    }
   ],
   "source": [
    "from transformers import BertTokenizer\n",
    "#using pretrained bert tokenizer\n",
    "print(\"Loading BERT Tokenizer\")\n",
<<<<<<< HEAD
    "tokenizer = BertTokenizer.from_pretrained('bert-base-multilingual-uncased', do_lower_case=True)\n",
    "# Add 'primogems' to the tokenizer's vocabulary\n",
    "num_added_toks = tokenizer.add_tokens(['primogems','primos','awesome','awful','rewards','visuals','quests',\n",
    "                                       'inspiring','gacha','grind', 'grinding','account','optimised','autoplay','kicked','kicks',\n",
    "                                       'mistakes','kicking','dude','combos','combo','characters','character',\n",
    "                                       'disappointment','wifi','translation','vulgar','horribly',\n",
    "                                       'masterpiece','adorable','backbone','misspelling','downloading',\n",
    "                                       'thoughtful','boring','animations','reccomended','trash','crashing','crashed','crashes'\n",
    "                                       'definitely','lags','satisfied','traveller','Jean','Sucrose','xiao',\n",
    "                                       'Venti','Albedo','Beidou','Gorou','Ningguang','Noelle','Zhongli',\n",
    "                                       'Raiden Shogun','Fischl','Keqing','Lisa','Razor','Barbara','Childe',\n",
    "                                       'Tartaglia','Mona','Xingqiu','Amber','Bennett','Diluc','Klee','Xiangling',\n",
    "                                       'Ayaka','Chongyun','Diona','Eula','Ganyu','Kaeya','Qiqi','Rosaria',\n",
    "                                       'traveller\\'s','Jean\\'s','Sucrose\\'s','xiao\\'s','Venti\\'s','Albedo\\'s',\n",
    "                                       'Beidou\\'s','Gorou\\'s','Ningguang\\'s','Noelle\\'s','Zhongli\\'s',\n",
    "                                       'Raiden Shogun\\'s','Fischl\\'s','Keqing\\'s','Lisa\\'s','Razor\\'s',\n",
    "                                       'Barbara\\'s','Childe\\'s','Tartaglia\\'s','Mona\\'s','Xingqiu\\'s',\n",
    "                                       'Amber\\'s','Bennett\\'s','Diluc\\'s','Klee\\'s','Xiangling\\'s',\n",
    "                                       'Ayaka\\'s','Chongyun\\'s','Diona\\'s','Eula\\'s','Ganyu\\'s','Kaeya\\'s',\n",
    "                                       'Qiqi\\'s','Rosaria\\'s','letting','risked','risking','collide','collided',\n",
    "                                       'lol','sweat','sweating','casually','applies','coompilling','shaders',\n",
    "                                       'breathtaking','bugged','bugging','teleport','absolutely','scenenary',\n",
    "                                       'dialogs','hesitant','fave','glitches','lets','insufficient','uninstall',\n",
    "                                       'uninstalling','honestly','calming','unplayable','delete','delete','liked',\n",
    "                                       'cheaper','anyways','amazingly','cutscene','lazy','addicting','logging'])\n",
    "\n"
=======
    "tokenizer = BertTokenizer.from_pretrained('bert-base-multilingual-uncased', do_lower_case=True)"
>>>>>>> ce2fc16e7fd6dbee417d1e6228d010544e34e88e
   ]
  },
  {
   "cell_type": "code",
<<<<<<< HEAD
   "execution_count": 34,
=======
   "execution_count": 27,
>>>>>>> ce2fc16e7fd6dbee417d1e6228d010544e34e88e
   "id": "710c3f7e-f67b-4acd-b6c0-a877ae628f8a",
   "metadata": {},
   "outputs": [
    {
     "name": "stdout",
     "output_type": "stream",
     "text": [
      "Original:  the game is amazing it is visuals characters and gameplay are awesome as hell the only problem are the rewards that are way too bad the commissions do not give you the needed primogems for even pull the quests take too much time and again give almost nothing as a reward the events are cool and the developers constantly introduce new mechanics to the game the d anniversary rewards we are awful\n",
<<<<<<< HEAD
      "Tokenized:  ['the', 'game', 'is', 'amazing', 'it', 'is', 'visuals', 'characters', 'and', 'gameplay', 'are', 'awesome', 'as', 'hell', 'the', 'only', 'problem', 'are', 'the', 'rewards', 'that', 'are', 'way', 'too', 'bad', 'the', 'commissions', 'do', 'not', 'give', 'you', 'the', 'needed', 'primogems', 'for', 'even', 'pull', 'the', 'quests', 'take', 'too', 'much', 'time', 'and', 'again', 'give', 'almost', 'nothing', 'as', 'a', 'reward', 'the', 'events', 'are', 'cool', 'and', 'the', 'developers', 'constantly', 'introduce', 'new', 'mechanics', 'to', 'the', 'game', 'the', 'd', 'anniversary', 'rewards', 'we', 'are', 'awful']\n",
      "Token IDS:  [10103, 11336, 10127, 39854, 10197, 10127, 105883, 18751, 10110, 66362, 10320, 105880, 10146, 19575, 10103, 10902, 15640, 10320, 10103, 105882, 10203, 10320, 12140, 14666, 12428, 10103, 78347, 10154, 10497, 16118, 10855, 10103, 23615, 105879, 10139, 12818, 59289, 10103, 105884, 11622, 14666, 12977, 10573, 10110, 12590, 16118, 16398, 20587, 10146, 143, 92306, 10103, 15017, 10320, 26462, 10110, 10103, 62961, 79296, 52707, 10246, 44984, 10114, 10103, 11336, 10103, 146, 23491, 105882, 11312, 10320, 105881]\n"
=======
      "Tokenized:  ['the', 'game', 'is', 'amazing', 'it', 'is', 'visual', '##s', 'characters', 'and', 'gameplay', 'are', 'aw', '##eso', '##me', 'as', 'hell', 'the', 'only', 'problem', 'are', 'the', 'reward', '##s', 'that', 'are', 'way', 'too', 'bad', 'the', 'commissions', 'do', 'not', 'give', 'you', 'the', 'needed', 'primo', '##gem', '##s', 'for', 'even', 'pull', 'the', 'quest', '##s', 'take', 'too', 'much', 'time', 'and', 'again', 'give', 'almost', 'nothing', 'as', 'a', 'reward', 'the', 'events', 'are', 'cool', 'and', 'the', 'developers', 'constantly', 'introduce', 'new', 'mechanics', 'to', 'the', 'game', 'the', 'd', 'anniversary', 'reward', '##s', 'we', 'are', 'aw', '##ful']\n",
      "Token IDS:  [10103, 11336, 10127, 39854, 10197, 10127, 18785, 10107, 18751, 10110, 66362, 10320, 37079, 42279, 10688, 10146, 19575, 10103, 10902, 15640, 10320, 10103, 92306, 10107, 10203, 10320, 12140, 14666, 12428, 10103, 78347, 10154, 10497, 16118, 10855, 10103, 23615, 12195, 21538, 10107, 10139, 12818, 59289, 10103, 17248, 10107, 11622, 14666, 12977, 10573, 10110, 12590, 16118, 16398, 20587, 10146, 143, 92306, 10103, 15017, 10320, 26462, 10110, 10103, 62961, 79296, 52707, 10246, 44984, 10114, 10103, 11336, 10103, 146, 23491, 92306, 10107, 11312, 10320, 37079, 15836]\n"
>>>>>>> ce2fc16e7fd6dbee417d1e6228d010544e34e88e
     ]
    }
   ],
   "source": [
    "print(\"Original: \", sentences[0])\n",
    "#yes it's not perfect, game word terms like primogems are not identified as english word.\n",
    "print(\"Tokenized: \", tokenizer.tokenize(sentences[0]))\n",
    "#tokenization time\n",
<<<<<<< HEAD
    "print(\"Token IDS: \", tokenizer.convert_tokens_to_ids(tokenizer.tokenize(sentences[0])))\n",
    "\n",
    "# # Tokenizing sentences and obtaining token IDs\n",
    "# tokenized_sentences = []\n",
    "# token_ids = []\n",
    "\n",
    "# for sent in sentences:\n",
    "#     tokenized = tokenizer.tokenize(sent)\n",
    "#     tokenized_sentences.append(tokenized)\n",
    "#     token_ids.append(tokenizer.convert_tokens_to_ids(tokenized))\n",
    "\n",
    "# # Create a DataFrame with original sentences, tokenized forms, and token IDs\n",
    "# output_df = pd.DataFrame({\n",
    "#     'Original Sentence': sentences,\n",
    "#     'Tokenized Sentence': tokenized_sentences,\n",
    "# })\n",
    "\n",
    "# # Save the DataFrame to a CSV file\n",
    "# output_df.to_csv('tokenized_sentences.csv', index=False)"
=======
    "print(\"Token IDS: \", tokenizer.convert_tokens_to_ids(tokenizer.tokenize(sentences[0])))"
>>>>>>> ce2fc16e7fd6dbee417d1e6228d010544e34e88e
   ]
  },
  {
   "cell_type": "code",
<<<<<<< HEAD
   "execution_count": 23,
=======
   "execution_count": 28,
>>>>>>> ce2fc16e7fd6dbee417d1e6228d010544e34e88e
   "id": "c987ea87-1ae2-4cd4-a3e7-74d8f3a448dc",
   "metadata": {},
   "outputs": [
    {
     "name": "stdout",
     "output_type": "stream",
     "text": [
      "Original:  the game is amazing it is visuals characters and gameplay are awesome as hell the only problem are the rewards that are way too bad the commissions do not give you the needed primogems for even pull the quests take too much time and again give almost nothing as a reward the events are cool and the developers constantly introduce new mechanics to the game the d anniversary rewards we are awful\n",
<<<<<<< HEAD
      "Token IDs:  [101, 10103, 11336, 10127, 39854, 10197, 10127, 18785, 10107, 18751, 10110, 66362, 10320, 105880, 10146, 19575, 10103, 10902, 15640, 10320, 10103, 105881, 10203, 10320, 12140, 14666, 12428, 10103, 78347, 10154, 10497, 16118, 10855, 10103, 23615, 105879, 10139, 12818, 59289, 10103, 17248, 10107, 11622, 14666, 12977, 10573, 10110, 12590, 16118, 16398, 20587, 10146, 143, 92306, 10103, 15017, 10320, 26462, 10110, 10103, 62961, 79296, 52707, 10246, 44984, 10114, 10103, 11336, 10103, 146, 23491, 105881, 11312, 10320, 37079, 15836, 102]\n"
=======
      "Token IDs:  [101, 10103, 11336, 10127, 39854, 10197, 10127, 18785, 10107, 18751, 10110, 66362, 10320, 37079, 42279, 10688, 10146, 19575, 10103, 10902, 15640, 10320, 10103, 92306, 10107, 10203, 10320, 12140, 14666, 12428, 10103, 78347, 10154, 10497, 16118, 10855, 10103, 23615, 12195, 21538, 10107, 10139, 12818, 59289, 10103, 17248, 10107, 11622, 14666, 12977, 10573, 10110, 12590, 16118, 16398, 20587, 10146, 143, 92306, 10103, 15017, 10320, 26462, 10110, 10103, 62961, 79296, 52707, 10246, 44984, 10114, 10103, 11336, 10103, 146, 23491, 92306, 10107, 11312, 10320, 37079, 15836, 102]\n"
>>>>>>> ce2fc16e7fd6dbee417d1e6228d010544e34e88e
     ]
    }
   ],
   "source": [
    "input_ids = []\n",
    "\n",
    "for sent in sentences:\n",
    "  encoded_sent = tokenizer.encode(\n",
    "      sent,\n",
    "      add_special_tokens = True\n",
    "  )\n",
    "  input_ids.append(encoded_sent)\n",
    "\n",
    "print(\"Original: \", sentences[0])\n",
    "print(\"Token IDs: \", input_ids[0])\n"
   ]
  },
  {
   "cell_type": "code",
<<<<<<< HEAD
   "execution_count": 67,
=======
   "execution_count": 29,
>>>>>>> ce2fc16e7fd6dbee417d1e6228d010544e34e88e
   "id": "32880d3d-c569-4ddf-b396-591da9209d41",
   "metadata": {},
   "outputs": [
    {
     "name": "stdout",
     "output_type": "stream",
     "text": [
      "Max sentence length:  268\n"
     ]
    }
   ],
   "source": [
    "print(\"Max sentence length: \", max([len(sen) for sen in input_ids]))"
   ]
  },
  {
   "cell_type": "code",
<<<<<<< HEAD
   "execution_count": 68,
=======
   "execution_count": 30,
>>>>>>> ce2fc16e7fd6dbee417d1e6228d010544e34e88e
   "id": "48350909-3a6c-4beb-8ea4-ac95f76df530",
   "metadata": {},
   "outputs": [
    {
     "name": "stdout",
     "output_type": "stream",
     "text": [
      "Padding/truncating all sentences to 64 values\n",
      "Padding token: \"[PAD]\", ID: 0\n",
      "Done\n"
     ]
    }
   ],
   "source": [
    "from keras.preprocessing.sequence import pad_sequences\n",
    "\n",
    "MAX_LEN = 64\n",
    "\n",
    "print(\"Padding/truncating all sentences to %d values\" % MAX_LEN)\n",
    "print('Padding token: \"{:}\", ID: {:}'.format(tokenizer.pad_token, tokenizer.pad_token_id))\n",
    "\n",
    "input_ids = pad_sequences(input_ids, maxlen=MAX_LEN, dtype='long', value=0, truncating='post', padding='post')\n",
    "\n",
    "print(\"Done\")"
   ]
  },
  {
   "cell_type": "code",
<<<<<<< HEAD
   "execution_count": 69,
=======
   "execution_count": 31,
>>>>>>> ce2fc16e7fd6dbee417d1e6228d010544e34e88e
   "id": "7556e2be-6b91-4a8b-9bd0-7625be11f18a",
   "metadata": {},
   "outputs": [
    {
     "data": {
      "text/plain": [
       "array([  101, 10103, 11336, 10127, 39854, 10197, 10127, 18785, 10107,\n",
       "       18751, 10110, 66362, 10320, 37079, 42279, 10688, 10146, 19575,\n",
       "       10103, 10902, 15640, 10320, 10103, 92306, 10107, 10203, 10320,\n",
       "       12140, 14666, 12428, 10103, 78347, 10154, 10497, 16118, 10855,\n",
       "       10103, 23615, 12195, 21538, 10107, 10139, 12818, 59289, 10103,\n",
       "       17248, 10107, 11622, 14666, 12977, 10573, 10110, 12590, 16118,\n",
       "       16398, 20587, 10146,   143, 92306, 10103, 15017, 10320, 26462,\n",
       "       10110])"
      ]
     },
<<<<<<< HEAD
     "execution_count": 69,
=======
     "execution_count": 31,
>>>>>>> ce2fc16e7fd6dbee417d1e6228d010544e34e88e
     "metadata": {},
     "output_type": "execute_result"
    }
   ],
   "source": [
    "input_ids[0]"
   ]
  },
  {
   "cell_type": "code",
<<<<<<< HEAD
   "execution_count": 70,
=======
   "execution_count": 32,
>>>>>>> ce2fc16e7fd6dbee417d1e6228d010544e34e88e
   "id": "a21e22b7-db63-41f8-80a4-6a74471808fe",
   "metadata": {},
   "outputs": [],
   "source": [
    "attention_mask = []\n",
    "\n",
    "for sent in input_ids:\n",
    "  att_mask = [int(token_id > 0) for token_id in sent]\n",
    "\n",
    "  attention_mask.append(att_mask)"
   ]
  },
  {
   "cell_type": "code",
<<<<<<< HEAD
   "execution_count": 71,
=======
   "execution_count": 33,
>>>>>>> ce2fc16e7fd6dbee417d1e6228d010544e34e88e
   "id": "a962323b-f6f3-4760-9043-1492dc8fa3ef",
   "metadata": {},
   "outputs": [],
   "source": [
    "from sklearn.model_selection import train_test_split\n",
    "\n",
    "train_input, test_input, train_labels, test_labels = train_test_split(input_ids,labels, random_state=42, test_size=0.1)\n",
    "train_mask, test_mask, _, _ = train_test_split(attention_mask, labels, random_state=42, test_size=0.1)\n",
    "\n",
    "train_input, validation_input, train_labels, validation_labels = train_test_split(train_input, train_labels, random_state= 43, test_size=0.15)\n",
    "train_mask, validation_mask, _, _ = train_test_split(train_mask, train_mask, random_state=43, test_size=0.15)"
   ]
  },
  {
   "cell_type": "code",
<<<<<<< HEAD
   "execution_count": 72,
=======
   "execution_count": 34,
>>>>>>> ce2fc16e7fd6dbee417d1e6228d010544e34e88e
   "id": "936bbcbf-b091-4cd5-bc32-d01a7d5177e6",
   "metadata": {},
   "outputs": [
    {
     "name": "stdout",
     "output_type": "stream",
     "text": [
      "== Train ==\n",
      "Input:  (2383, 64)\n",
      "Label:  (2383,)\n",
      "Mask:  (2383, 64)\n",
      "\n",
      "== Validation ==\n",
      "Input:  (421, 64)\n",
      "Label:  (421,)\n",
      "Mask:  (421, 64)\n",
      "\n",
      "== Test ==\n",
      "Input:  (312, 64)\n",
      "Label:  (312,)\n",
      "Mask:  (312, 64)\n"
     ]
    }
   ],
   "source": [
    "import numpy as np\n",
    "print(\"== Train ==\")\n",
    "print(\"Input: \", train_input.shape)\n",
    "print(\"Label: \", train_labels.shape)\n",
    "print(\"Mask: \", np.array(train_mask).shape)\n",
    "\n",
    "print(\"\\n== Validation ==\")\n",
    "print(\"Input: \", validation_input.shape)\n",
    "print(\"Label: \", validation_labels.shape)\n",
    "print(\"Mask: \", np.array(validation_mask).shape)\n",
    "\n",
    "print(\"\\n== Test ==\")\n",
    "print(\"Input: \", test_input.shape)\n",
    "print(\"Label: \", test_labels.shape)\n",
    "print(\"Mask: \", np.array(test_mask).shape)"
   ]
  },
  {
   "cell_type": "code",
<<<<<<< HEAD
   "execution_count": 73,
=======
   "execution_count": 35,
>>>>>>> ce2fc16e7fd6dbee417d1e6228d010544e34e88e
   "id": "b0021144-8963-4966-9e73-a4718736bc3d",
   "metadata": {},
   "outputs": [],
   "source": [
    "train_input = torch.tensor(train_input)\n",
    "train_labels = torch.tensor(train_labels)\n",
    "train_mask = torch.tensor(train_mask)\n",
    "\n",
    "validation_input = torch.tensor(validation_input)\n",
    "validation_labels = torch.tensor(validation_labels)\n",
    "validation_mask = torch.tensor(validation_mask)\n",
    "\n",
    "test_input = torch.tensor(test_input)\n",
    "test_labels = torch.tensor(test_labels)\n",
    "test_mask = torch.tensor(test_mask)"
   ]
  },
  {
   "cell_type": "code",
<<<<<<< HEAD
   "execution_count": 74,
=======
   "execution_count": 36,
>>>>>>> ce2fc16e7fd6dbee417d1e6228d010544e34e88e
   "id": "9039a566-da1d-4266-9007-00515a0ef8db",
   "metadata": {},
   "outputs": [],
   "source": [
    "from torch.utils.data import TensorDataset, DataLoader, RandomSampler, SequentialSampler\n",
    "\n",
    "batch_size = 32\n",
    "\n",
    "train_data = TensorDataset(train_input, train_mask, train_labels)\n",
    "train_sampler = RandomSampler(train_data)\n",
    "train_dataloader = DataLoader(train_data, sampler=train_sampler, batch_size=batch_size)\n",
    "\n",
    "validation_data = TensorDataset(validation_input, validation_mask, validation_labels)\n",
    "validation_sampler = SequentialSampler(validation_data)\n",
    "validation_dataloader = DataLoader(validation_data, sampler=validation_sampler, batch_size=batch_size)\n",
    "\n",
    "test_data = TensorDataset(test_input, test_mask, test_labels)\n",
    "test_sampler = SequentialSampler(test_data)\n",
    "test_dataloader = DataLoader(test_data, sampler=test_sampler, batch_size=batch_size)"
   ]
  },
  {
   "cell_type": "code",
<<<<<<< HEAD
   "execution_count": 75,
=======
   "execution_count": 37,
>>>>>>> ce2fc16e7fd6dbee417d1e6228d010544e34e88e
   "id": "7de96595-35fb-45c5-b035-9a34866e6c8e",
   "metadata": {},
   "outputs": [
    {
     "name": "stderr",
     "output_type": "stream",
     "text": [
      "Some weights of BertForSequenceClassification were not initialized from the model checkpoint at bert-base-multilingual-uncased and are newly initialized: ['classifier.bias', 'classifier.weight']\n",
      "You should probably TRAIN this model on a down-stream task to be able to use it for predictions and inference.\n"
     ]
    }
   ],
   "source": [
    "from transformers import BertForSequenceClassification, AdamW, BertConfig\n",
    "\n",
    "model = BertForSequenceClassification.from_pretrained(\n",
    "    \"bert-base-multilingual-uncased\",\n",
    "    num_labels = 3,\n",
    "    output_attentions = False,\n",
    "    output_hidden_states = False\n",
    ")\n"
   ]
  },
  {
   "cell_type": "code",
<<<<<<< HEAD
   "execution_count": 76,
=======
   "execution_count": 38,
>>>>>>> ce2fc16e7fd6dbee417d1e6228d010544e34e88e
   "id": "944da474-e6a2-4bf3-bdc3-9587f05ee1f6",
   "metadata": {},
   "outputs": [
    {
     "name": "stdout",
     "output_type": "stream",
     "text": [
      "The BERT model has 201 different named parameters.\n",
      "==== Embedding Layer ====\n",
      "bert.embeddings.word_embeddings.weight                       (105879, 768)\n",
      "bert.embeddings.position_embeddings.weight                     (512, 768)\n",
      "bert.embeddings.token_type_embeddings.weight                     (2, 768)\n",
      "bert.embeddings.LayerNorm.weight                                   (768,)\n",
      "bert.embeddings.LayerNorm.bias                                     (768,)\n",
      "==== First Transformers ====\n",
      "bert.encoder.layer.0.attention.self.query.weight               (768, 768)\n",
      "bert.encoder.layer.0.attention.self.query.bias                     (768,)\n",
      "bert.encoder.layer.0.attention.self.key.weight                 (768, 768)\n",
      "bert.encoder.layer.0.attention.self.key.bias                       (768,)\n",
      "bert.encoder.layer.0.attention.self.value.weight               (768, 768)\n",
      "bert.encoder.layer.0.attention.self.value.bias                     (768,)\n",
      "bert.encoder.layer.0.attention.output.dense.weight             (768, 768)\n",
      "bert.encoder.layer.0.attention.output.dense.bias                   (768,)\n",
      "bert.encoder.layer.0.attention.output.LayerNorm.weight             (768,)\n",
      "bert.encoder.layer.0.attention.output.LayerNorm.bias               (768,)\n",
      "bert.encoder.layer.0.intermediate.dense.weight                (3072, 768)\n",
      "bert.encoder.layer.0.intermediate.dense.bias                      (3072,)\n",
      "bert.encoder.layer.0.output.dense.weight                      (768, 3072)\n",
      "bert.encoder.layer.0.output.dense.bias                             (768,)\n",
      "bert.encoder.layer.0.output.LayerNorm.weight                       (768,)\n",
      "bert.encoder.layer.0.output.LayerNorm.bias                         (768,)\n",
      "==== Output Layer ====\n",
      "bert.pooler.dense.weight                                       (768, 768)\n",
      "bert.pooler.dense.bias                                             (768,)\n",
      "classifier.weight                                                (3, 768)\n",
      "classifier.bias                                                      (3,)\n"
     ]
    }
   ],
   "source": [
    "params = list(model.named_parameters())\n",
    "\n",
    "print(\"The BERT model has {:} different named parameters.\".format(len(params)))\n",
    "\n",
    "print(\"==== Embedding Layer ====\")\n",
    "for p in params[0:5]:\n",
    "  print(\"{:<60} {:>12}\".format(p[0], str(tuple(p[1].size()))))\n",
    "\n",
    "print(\"==== First Transformers ====\")\n",
    "for p in params[5:21]:\n",
    "  print(\"{:<60} {:>12}\".format(p[0], str(tuple(p[1].size()))))\n",
    "\n",
    "print(\"==== Output Layer ====\")\n",
    "for p in params[-4:]:\n",
    "  print(\"{:<60} {:>12}\".format(p[0], str(tuple(p[1].size()))))"
   ]
  },
  {
   "cell_type": "code",
<<<<<<< HEAD
   "execution_count": 77,
=======
   "execution_count": 39,
>>>>>>> ce2fc16e7fd6dbee417d1e6228d010544e34e88e
   "id": "2c6481e3-56af-4cc0-93ad-0387207048a0",
   "metadata": {},
   "outputs": [
    {
     "name": "stderr",
     "output_type": "stream",
     "text": [
<<<<<<< HEAD
      "c:\\Users\\ASUS\\anaconda3\\Lib\\site-packages\\transformers\\optimization.py:411: FutureWarning: This implementation of AdamW is deprecated and will be removed in a future version. Use the PyTorch implementation torch.optim.AdamW instead, or set `no_deprecation_warning=True` to disable this warning\n",
=======
      "C:\\Users\\tiffa\\AppData\\Local\\Programs\\Python\\Python310\\lib\\site-packages\\transformers\\optimization.py:411: FutureWarning: This implementation of AdamW is deprecated and will be removed in a future version. Use the PyTorch implementation torch.optim.AdamW instead, or set `no_deprecation_warning=True` to disable this warning\n",
>>>>>>> ce2fc16e7fd6dbee417d1e6228d010544e34e88e
      "  warnings.warn(\n"
     ]
    }
   ],
   "source": [
    "optimizer = AdamW(\n",
    "    model.parameters(),\n",
    "    lr = 2e-5,\n",
    "    eps = 1e-8\n",
    ")"
   ]
  },
  {
   "cell_type": "code",
<<<<<<< HEAD
   "execution_count": 78,
=======
   "execution_count": 40,
>>>>>>> ce2fc16e7fd6dbee417d1e6228d010544e34e88e
   "id": "5dbefe2a-27e8-4afe-aa37-c1d6dc6a26be",
   "metadata": {},
   "outputs": [],
   "source": [
    "from transformers import get_linear_schedule_with_warmup\n",
    "\n",
<<<<<<< HEAD
    "epochs = 35\n",
=======
    "epochs = 5\n",
>>>>>>> ce2fc16e7fd6dbee417d1e6228d010544e34e88e
    "\n",
    "total_steps = len(train_dataloader) * epochs\n",
    "\n",
    "scheduler = get_linear_schedule_with_warmup(optimizer, num_warmup_steps = 0, num_training_steps = total_steps)"
   ]
  },
  {
   "cell_type": "code",
<<<<<<< HEAD
   "execution_count": 79,
=======
   "execution_count": 41,
>>>>>>> ce2fc16e7fd6dbee417d1e6228d010544e34e88e
   "id": "261b2888-3dd6-453c-91b0-a4ba17a1cff0",
   "metadata": {},
   "outputs": [],
   "source": [
    "import numpy as np\n",
    "\n",
    "def flat_accuracy(preds, labels):\n",
    "  pred_flat = np.argmax(preds, axis=1).flatten()\n",
    "  labels_flat = labels.flatten()\n",
    "  return np.sum(pred_flat == labels_flat) / len(labels_flat)"
   ]
  },
  {
   "cell_type": "code",
<<<<<<< HEAD
   "execution_count": 80,
=======
   "execution_count": 42,
>>>>>>> ce2fc16e7fd6dbee417d1e6228d010544e34e88e
   "id": "07e9684b-db8d-4294-b143-b5581e40e63b",
   "metadata": {},
   "outputs": [],
   "source": [
    "import time\n",
    "import datetime\n",
    "\n",
    "def format_time(elapsed):\n",
    "  elapsed_rounded = int(round(elapsed))\n",
    "  return str(datetime.timedelta(seconds=elapsed_rounded))"
   ]
  },
  {
   "cell_type": "code",
<<<<<<< HEAD
   "execution_count": 81,
=======
   "execution_count": 43,
>>>>>>> ce2fc16e7fd6dbee417d1e6228d010544e34e88e
   "id": "f51b87a3-5279-4ec8-a30c-be075447da17",
   "metadata": {},
   "outputs": [
    {
     "name": "stdout",
     "output_type": "stream",
     "text": [
<<<<<<< HEAD
      "======= Epoch 1 / 35 =======\n",
      "Training...\n"
     ]
    },
    {
     "name": "stdout",
     "output_type": "stream",
     "text": [
      "Batch    12 of    75.     Elapsed: 0:01:35\n",
      "Batch    24 of    75.     Elapsed: 0:03:08\n",
      "Batch    36 of    75.     Elapsed: 0:04:41\n",
      "Batch    48 of    75.     Elapsed: 0:06:16\n",
      "Batch    60 of    75.     Elapsed: 0:07:50\n",
      "Batch    72 of    75.     Elapsed: 0:09:24\n",
      "   Average training loss: 1.04\n",
      "   Training epoch took: 0:09:44\n",
      "Running Validation...\n",
      "   Accuracy: 0.50\n",
      "   Validation took: 0:00:32\n",
      "======= Epoch 2 / 35 =======\n",
      "Training...\n",
      "Batch    12 of    75.     Elapsed: 0:01:33\n",
      "Batch    24 of    75.     Elapsed: 0:03:06\n",
      "Batch    36 of    75.     Elapsed: 0:04:39\n",
      "Batch    48 of    75.     Elapsed: 0:06:12\n",
      "Batch    60 of    75.     Elapsed: 0:07:46\n",
      "Batch    72 of    75.     Elapsed: 0:09:19\n",
      "   Average training loss: 0.90\n",
      "   Training epoch took: 0:09:38\n",
      "Running Validation...\n",
      "   Accuracy: 0.57\n",
      "   Validation took: 0:00:31\n",
      "======= Epoch 3 / 35 =======\n",
      "Training...\n",
      "Batch    12 of    75.     Elapsed: 0:01:33\n",
      "Batch    24 of    75.     Elapsed: 0:03:06\n",
      "Batch    36 of    75.     Elapsed: 0:04:39\n",
      "Batch    48 of    75.     Elapsed: 0:06:12\n",
      "Batch    60 of    75.     Elapsed: 0:07:44\n",
      "Batch    72 of    75.     Elapsed: 0:09:17\n",
      "   Average training loss: 0.81\n",
      "   Training epoch took: 0:09:37\n",
      "Running Validation...\n",
      "   Accuracy: 0.63\n",
      "   Validation took: 0:00:32\n",
      "======= Epoch 4 / 35 =======\n",
      "Training...\n",
      "Batch    12 of    75.     Elapsed: 0:01:33\n",
      "Batch    24 of    75.     Elapsed: 0:03:06\n",
      "Batch    36 of    75.     Elapsed: 0:04:39\n",
      "Batch    48 of    75.     Elapsed: 0:06:12\n",
      "Batch    60 of    75.     Elapsed: 0:07:45\n",
      "Batch    72 of    75.     Elapsed: 0:09:18\n",
      "   Average training loss: 0.72\n",
      "   Training epoch took: 0:09:37\n",
      "Running Validation...\n",
      "   Accuracy: 0.62\n",
      "   Validation took: 0:00:32\n",
      "======= Epoch 5 / 35 =======\n",
      "Training...\n",
      "Batch    12 of    75.     Elapsed: 0:01:33\n",
      "Batch    24 of    75.     Elapsed: 0:03:06\n",
      "Batch    36 of    75.     Elapsed: 0:04:39\n",
      "Batch    48 of    75.     Elapsed: 0:06:12\n",
      "Batch    60 of    75.     Elapsed: 0:07:45\n",
      "Batch    72 of    75.     Elapsed: 0:09:18\n",
      "   Average training loss: 0.56\n",
      "   Training epoch took: 0:09:37\n",
      "Running Validation...\n",
      "   Accuracy: 0.62\n",
      "   Validation took: 0:00:31\n",
      "======= Epoch 6 / 35 =======\n",
      "Training...\n",
      "Batch    12 of    75.     Elapsed: 0:01:34\n",
      "Batch    24 of    75.     Elapsed: 0:03:06\n",
      "Batch    36 of    75.     Elapsed: 0:04:40\n",
      "Batch    48 of    75.     Elapsed: 0:06:12\n",
      "Batch    60 of    75.     Elapsed: 0:07:45\n",
      "Batch    72 of    75.     Elapsed: 0:09:18\n",
      "   Average training loss: 0.45\n",
      "   Training epoch took: 0:09:38\n",
      "Running Validation...\n",
      "   Accuracy: 0.59\n",
      "   Validation took: 0:00:32\n",
      "======= Epoch 7 / 35 =======\n",
      "Training...\n",
      "Batch    12 of    75.     Elapsed: 0:01:33\n",
      "Batch    24 of    75.     Elapsed: 0:03:06\n",
      "Batch    36 of    75.     Elapsed: 0:04:39\n",
      "Batch    48 of    75.     Elapsed: 0:06:12\n",
      "Batch    60 of    75.     Elapsed: 0:07:45\n",
      "Batch    72 of    75.     Elapsed: 0:09:19\n",
      "   Average training loss: 0.34\n",
      "   Training epoch took: 0:09:39\n",
      "Running Validation...\n",
      "   Accuracy: 0.61\n",
      "   Validation took: 0:00:31\n",
      "======= Epoch 8 / 35 =======\n",
      "Training...\n",
      "Batch    12 of    75.     Elapsed: 0:01:33\n",
      "Batch    24 of    75.     Elapsed: 0:03:07\n",
      "Batch    36 of    75.     Elapsed: 0:04:40\n",
      "Batch    48 of    75.     Elapsed: 0:06:13\n",
      "Batch    60 of    75.     Elapsed: 0:07:46\n",
      "Batch    72 of    75.     Elapsed: 0:09:19\n",
      "   Average training loss: 0.26\n",
      "   Training epoch took: 0:09:38\n",
      "Running Validation...\n",
      "   Accuracy: 0.63\n",
      "   Validation took: 0:00:32\n",
      "======= Epoch 9 / 35 =======\n",
      "Training...\n",
      "Batch    12 of    75.     Elapsed: 0:01:33\n",
      "Batch    24 of    75.     Elapsed: 0:03:07\n",
      "Batch    36 of    75.     Elapsed: 0:04:40\n",
      "Batch    48 of    75.     Elapsed: 0:06:13\n",
      "Batch    60 of    75.     Elapsed: 0:07:46\n",
      "Batch    72 of    75.     Elapsed: 0:09:19\n",
      "   Average training loss: 0.21\n",
      "   Training epoch took: 0:09:39\n",
      "Running Validation...\n",
      "   Accuracy: 0.63\n",
      "   Validation took: 0:00:32\n",
      "======= Epoch 10 / 35 =======\n",
      "Training...\n",
      "Batch    12 of    75.     Elapsed: 0:01:34\n",
      "Batch    24 of    75.     Elapsed: 0:03:08\n",
      "Batch    36 of    75.     Elapsed: 0:04:40\n",
      "Batch    48 of    75.     Elapsed: 0:06:13\n",
      "Batch    60 of    75.     Elapsed: 0:07:46\n",
      "Batch    72 of    75.     Elapsed: 0:09:19\n",
      "   Average training loss: 0.15\n",
      "   Training epoch took: 0:09:39\n",
      "Running Validation...\n",
      "   Accuracy: 0.61\n",
      "   Validation took: 0:00:31\n",
      "======= Epoch 11 / 35 =======\n",
      "Training...\n",
      "Batch    12 of    75.     Elapsed: 0:01:33\n",
      "Batch    24 of    75.     Elapsed: 0:03:06\n",
      "Batch    36 of    75.     Elapsed: 0:04:39\n",
      "Batch    48 of    75.     Elapsed: 0:06:12\n",
      "Batch    60 of    75.     Elapsed: 0:07:45\n",
      "Batch    72 of    75.     Elapsed: 0:09:17\n",
      "   Average training loss: 0.13\n",
      "   Training epoch took: 0:09:37\n",
      "Running Validation...\n",
      "   Accuracy: 0.60\n",
      "   Validation took: 0:00:32\n",
      "======= Epoch 12 / 35 =======\n",
      "Training...\n",
      "Batch    12 of    75.     Elapsed: 0:01:33\n",
      "Batch    24 of    75.     Elapsed: 0:03:06\n",
      "Batch    36 of    75.     Elapsed: 0:04:39\n",
      "Batch    48 of    75.     Elapsed: 0:06:12\n",
      "Batch    60 of    75.     Elapsed: 0:07:44\n",
      "Batch    72 of    75.     Elapsed: 0:09:18\n",
      "   Average training loss: 0.11\n",
      "   Training epoch took: 0:09:38\n",
      "Running Validation...\n",
      "   Accuracy: 0.62\n",
      "   Validation took: 0:00:31\n",
      "======= Epoch 13 / 35 =======\n",
      "Training...\n",
      "Batch    12 of    75.     Elapsed: 0:01:33\n",
      "Batch    24 of    75.     Elapsed: 0:03:06\n",
      "Batch    36 of    75.     Elapsed: 0:04:38\n",
      "Batch    48 of    75.     Elapsed: 0:06:12\n",
      "Batch    60 of    75.     Elapsed: 0:07:46\n",
      "Batch    72 of    75.     Elapsed: 0:09:18\n",
      "   Average training loss: 0.09\n",
      "   Training epoch took: 0:09:38\n",
      "Running Validation...\n",
      "   Accuracy: 0.60\n",
      "   Validation took: 0:00:32\n",
      "======= Epoch 14 / 35 =======\n",
      "Training...\n",
      "Batch    12 of    75.     Elapsed: 0:01:33\n",
      "Batch    24 of    75.     Elapsed: 0:03:06\n",
      "Batch    36 of    75.     Elapsed: 0:04:39\n",
      "Batch    48 of    75.     Elapsed: 0:06:12\n",
      "Batch    60 of    75.     Elapsed: 0:07:45\n",
      "Batch    72 of    75.     Elapsed: 0:09:18\n",
      "   Average training loss: 0.07\n",
      "   Training epoch took: 0:09:38\n",
      "Running Validation...\n",
      "   Accuracy: 0.63\n",
      "   Validation took: 0:00:32\n",
      "======= Epoch 15 / 35 =======\n",
      "Training...\n",
      "Batch    12 of    75.     Elapsed: 0:01:33\n",
      "Batch    24 of    75.     Elapsed: 0:03:05\n",
      "Batch    36 of    75.     Elapsed: 0:04:37\n",
      "Batch    48 of    75.     Elapsed: 0:06:11\n",
      "Batch    60 of    75.     Elapsed: 0:07:43\n",
      "Batch    72 of    75.     Elapsed: 0:09:16\n",
      "   Average training loss: 0.05\n",
      "   Training epoch took: 0:09:36\n",
      "Running Validation...\n",
      "   Accuracy: 0.60\n",
      "   Validation took: 0:00:32\n",
      "======= Epoch 16 / 35 =======\n",
      "Training...\n",
      "Batch    12 of    75.     Elapsed: 0:01:33\n",
      "Batch    24 of    75.     Elapsed: 0:03:07\n",
      "Batch    36 of    75.     Elapsed: 0:04:40\n",
      "Batch    48 of    75.     Elapsed: 0:06:14\n",
      "Batch    60 of    75.     Elapsed: 0:07:47\n",
      "Batch    72 of    75.     Elapsed: 0:09:20\n",
      "   Average training loss: 0.05\n",
      "   Training epoch took: 0:09:40\n",
      "Running Validation...\n",
      "   Accuracy: 0.62\n",
      "   Validation took: 0:00:31\n",
      "======= Epoch 17 / 35 =======\n",
      "Training...\n",
      "Batch    12 of    75.     Elapsed: 0:01:33\n",
      "Batch    24 of    75.     Elapsed: 0:03:06\n",
      "Batch    36 of    75.     Elapsed: 0:04:38\n",
      "Batch    48 of    75.     Elapsed: 0:06:11\n",
      "Batch    60 of    75.     Elapsed: 0:07:44\n",
      "Batch    72 of    75.     Elapsed: 0:09:17\n",
      "   Average training loss: 0.13\n",
      "   Training epoch took: 0:09:37\n",
      "Running Validation...\n",
      "   Accuracy: 0.62\n",
      "   Validation took: 0:00:32\n",
      "======= Epoch 18 / 35 =======\n",
      "Training...\n",
      "Batch    12 of    75.     Elapsed: 0:01:33\n",
      "Batch    24 of    75.     Elapsed: 0:03:06\n",
      "Batch    36 of    75.     Elapsed: 0:04:39\n",
      "Batch    48 of    75.     Elapsed: 0:06:13\n",
      "Batch    60 of    75.     Elapsed: 0:07:46\n",
      "Batch    72 of    75.     Elapsed: 0:09:20\n",
      "   Average training loss: 0.07\n",
      "   Training epoch took: 0:09:40\n",
      "Running Validation...\n",
      "   Accuracy: 0.63\n",
      "   Validation took: 0:00:31\n",
      "======= Epoch 19 / 35 =======\n",
      "Training...\n",
      "Batch    12 of    75.     Elapsed: 0:01:34\n",
      "Batch    24 of    75.     Elapsed: 0:03:06\n",
      "Batch    36 of    75.     Elapsed: 0:04:40\n",
      "Batch    48 of    75.     Elapsed: 0:06:12\n",
      "Batch    60 of    75.     Elapsed: 0:07:46\n",
      "Batch    72 of    75.     Elapsed: 0:09:19\n",
      "   Average training loss: 0.03\n",
      "   Training epoch took: 0:09:38\n",
      "Running Validation...\n",
      "   Accuracy: 0.63\n",
      "   Validation took: 0:00:32\n",
      "======= Epoch 20 / 35 =======\n",
      "Training...\n",
      "Batch    12 of    75.     Elapsed: 0:01:32\n",
      "Batch    24 of    75.     Elapsed: 0:03:08\n",
      "Batch    36 of    75.     Elapsed: 0:04:41\n",
      "Batch    48 of    75.     Elapsed: 0:06:15\n",
      "Batch    60 of    75.     Elapsed: 0:07:48\n",
      "Batch    72 of    75.     Elapsed: 0:09:22\n",
      "   Average training loss: 0.04\n",
      "   Training epoch took: 0:09:41\n",
      "Running Validation...\n",
      "   Accuracy: 0.63\n",
      "   Validation took: 0:00:32\n",
      "======= Epoch 21 / 35 =======\n",
      "Training...\n",
      "Batch    12 of    75.     Elapsed: 0:01:32\n",
      "Batch    24 of    75.     Elapsed: 0:03:06\n",
      "Batch    36 of    75.     Elapsed: 0:04:38\n",
      "Batch    48 of    75.     Elapsed: 0:06:11\n",
      "Batch    60 of    75.     Elapsed: 0:07:43\n",
      "Batch    72 of    75.     Elapsed: 0:09:17\n",
      "   Average training loss: 0.03\n",
      "   Training epoch took: 0:09:36\n",
      "Running Validation...\n",
      "   Accuracy: 0.64\n",
      "   Validation took: 0:00:31\n",
      "======= Epoch 22 / 35 =======\n",
      "Training...\n",
      "Batch    12 of    75.     Elapsed: 0:01:33\n",
      "Batch    24 of    75.     Elapsed: 0:03:06\n",
      "Batch    36 of    75.     Elapsed: 0:04:39\n",
      "Batch    48 of    75.     Elapsed: 0:06:12\n",
      "Batch    60 of    75.     Elapsed: 0:07:45\n",
      "Batch    72 of    75.     Elapsed: 0:09:17\n",
      "   Average training loss: 0.02\n",
      "   Training epoch took: 0:09:37\n",
      "Running Validation...\n",
      "   Accuracy: 0.64\n",
      "   Validation took: 0:00:32\n",
      "======= Epoch 23 / 35 =======\n",
      "Training...\n",
      "Batch    12 of    75.     Elapsed: 0:01:33\n",
      "Batch    24 of    75.     Elapsed: 0:03:05\n",
      "Batch    36 of    75.     Elapsed: 0:04:39\n",
      "Batch    48 of    75.     Elapsed: 0:06:12\n",
      "Batch    60 of    75.     Elapsed: 0:07:45\n",
      "Batch    72 of    75.     Elapsed: 0:09:18\n",
      "   Average training loss: 0.02\n",
      "   Training epoch took: 0:09:38\n",
      "Running Validation...\n",
      "   Accuracy: 0.62\n",
      "   Validation took: 0:00:31\n",
      "======= Epoch 24 / 35 =======\n",
      "Training...\n",
      "Batch    12 of    75.     Elapsed: 0:01:33\n",
      "Batch    24 of    75.     Elapsed: 0:03:05\n",
      "Batch    36 of    75.     Elapsed: 0:04:38\n",
      "Batch    48 of    75.     Elapsed: 0:06:11\n",
      "Batch    60 of    75.     Elapsed: 0:07:44\n",
      "Batch    72 of    75.     Elapsed: 0:09:18\n",
      "   Average training loss: 0.01\n",
      "   Training epoch took: 0:09:37\n",
      "Running Validation...\n",
      "   Accuracy: 0.62\n",
      "   Validation took: 0:00:31\n",
      "======= Epoch 25 / 35 =======\n",
      "Training...\n",
      "Batch    12 of    75.     Elapsed: 0:01:33\n",
      "Batch    24 of    75.     Elapsed: 0:03:05\n",
      "Batch    36 of    75.     Elapsed: 0:04:39\n",
      "Batch    48 of    75.     Elapsed: 0:06:12\n",
      "Batch    60 of    75.     Elapsed: 0:07:45\n",
      "Batch    72 of    75.     Elapsed: 0:09:18\n",
      "   Average training loss: 0.00\n",
      "   Training epoch took: 0:09:38\n",
      "Running Validation...\n",
      "   Accuracy: 0.62\n",
      "   Validation took: 0:00:32\n",
      "======= Epoch 26 / 35 =======\n",
      "Training...\n",
      "Batch    12 of    75.     Elapsed: 0:01:33\n",
      "Batch    24 of    75.     Elapsed: 0:03:05\n",
      "Batch    36 of    75.     Elapsed: 0:04:38\n",
      "Batch    48 of    75.     Elapsed: 0:06:11\n",
      "Batch    60 of    75.     Elapsed: 0:07:44\n",
      "Batch    72 of    75.     Elapsed: 0:09:17\n",
      "   Average training loss: 0.01\n",
      "   Training epoch took: 0:09:37\n",
      "Running Validation...\n",
      "   Accuracy: 0.61\n",
      "   Validation took: 0:00:32\n",
      "======= Epoch 27 / 35 =======\n",
      "Training...\n",
      "Batch    12 of    75.     Elapsed: 0:01:33\n",
      "Batch    24 of    75.     Elapsed: 0:03:06\n",
      "Batch    36 of    75.     Elapsed: 0:04:39\n",
      "Batch    48 of    75.     Elapsed: 0:06:12\n",
      "Batch    60 of    75.     Elapsed: 0:07:44\n",
      "Batch    72 of    75.     Elapsed: 0:09:17\n",
      "   Average training loss: 0.01\n",
      "   Training epoch took: 0:09:37\n",
      "Running Validation...\n",
      "   Accuracy: 0.63\n",
      "   Validation took: 0:00:32\n",
      "======= Epoch 28 / 35 =======\n",
      "Training...\n",
      "Batch    12 of    75.     Elapsed: 0:01:33\n",
      "Batch    24 of    75.     Elapsed: 0:03:07\n",
      "Batch    36 of    75.     Elapsed: 0:04:40\n",
      "Batch    48 of    75.     Elapsed: 0:06:13\n",
      "Batch    60 of    75.     Elapsed: 0:07:46\n",
      "Batch    72 of    75.     Elapsed: 0:09:20\n",
      "   Average training loss: 0.01\n",
      "   Training epoch took: 0:09:40\n",
      "Running Validation...\n",
      "   Accuracy: 0.62\n",
      "   Validation took: 0:00:32\n",
      "======= Epoch 29 / 35 =======\n",
      "Training...\n",
      "Batch    12 of    75.     Elapsed: 0:01:33\n",
      "Batch    24 of    75.     Elapsed: 0:03:07\n",
      "Batch    36 of    75.     Elapsed: 0:04:40\n",
      "Batch    48 of    75.     Elapsed: 0:06:14\n",
      "Batch    60 of    75.     Elapsed: 0:07:47\n",
      "Batch    72 of    75.     Elapsed: 0:09:21\n",
      "   Average training loss: 0.00\n",
      "   Training epoch took: 0:09:40\n",
      "Running Validation...\n",
      "   Accuracy: 0.62\n",
      "   Validation took: 0:00:32\n",
      "======= Epoch 30 / 35 =======\n",
      "Training...\n",
      "Batch    12 of    75.     Elapsed: 0:01:33\n",
      "Batch    24 of    75.     Elapsed: 0:03:07\n",
      "Batch    36 of    75.     Elapsed: 0:04:40\n",
      "Batch    48 of    75.     Elapsed: 0:06:13\n",
      "Batch    60 of    75.     Elapsed: 0:07:46\n",
      "Batch    72 of    75.     Elapsed: 0:09:20\n",
      "   Average training loss: 0.00\n",
      "   Training epoch took: 0:09:40\n",
      "Running Validation...\n",
      "   Accuracy: 0.62\n",
      "   Validation took: 0:00:32\n",
      "======= Epoch 31 / 35 =======\n",
      "Training...\n",
      "Batch    12 of    75.     Elapsed: 0:01:34\n",
      "Batch    24 of    75.     Elapsed: 0:03:07\n",
      "Batch    36 of    75.     Elapsed: 0:04:42\n",
      "Batch    48 of    75.     Elapsed: 0:06:15\n",
      "Batch    60 of    75.     Elapsed: 0:07:49\n",
      "Batch    72 of    75.     Elapsed: 0:09:22\n",
      "   Average training loss: 0.00\n",
      "   Training epoch took: 0:09:42\n",
      "Running Validation...\n",
      "   Accuracy: 0.62\n",
      "   Validation took: 0:00:32\n",
      "======= Epoch 32 / 35 =======\n",
      "Training...\n",
      "Batch    12 of    75.     Elapsed: 0:01:33\n",
      "Batch    24 of    75.     Elapsed: 0:03:07\n",
      "Batch    36 of    75.     Elapsed: 0:04:40\n",
      "Batch    48 of    75.     Elapsed: 0:06:14\n",
      "Batch    60 of    75.     Elapsed: 0:07:48\n",
      "Batch    72 of    75.     Elapsed: 0:09:22\n",
      "   Average training loss: 0.00\n",
      "   Training epoch took: 0:09:41\n",
      "Running Validation...\n",
      "   Accuracy: 0.62\n",
      "   Validation took: 0:00:32\n",
      "======= Epoch 33 / 35 =======\n",
      "Training...\n",
      "Batch    12 of    75.     Elapsed: 0:01:33\n",
      "Batch    24 of    75.     Elapsed: 0:03:07\n",
      "Batch    36 of    75.     Elapsed: 0:04:40\n",
      "Batch    48 of    75.     Elapsed: 0:06:13\n",
      "Batch    60 of    75.     Elapsed: 0:07:47\n",
      "Batch    72 of    75.     Elapsed: 0:09:20\n",
      "   Average training loss: 0.01\n",
      "   Training epoch took: 0:09:40\n",
      "Running Validation...\n",
      "   Accuracy: 0.63\n",
      "   Validation took: 0:00:32\n",
      "======= Epoch 34 / 35 =======\n",
      "Training...\n",
      "Batch    12 of    75.     Elapsed: 0:01:33\n",
      "Batch    24 of    75.     Elapsed: 0:03:08\n",
      "Batch    36 of    75.     Elapsed: 0:04:41\n",
      "Batch    48 of    75.     Elapsed: 0:06:14\n",
      "Batch    60 of    75.     Elapsed: 0:07:48\n",
      "Batch    72 of    75.     Elapsed: 2:06:03\n",
      "   Average training loss: 0.00\n",
      "   Training epoch took: 2:06:22\n",
      "Running Validation...\n",
      "   Accuracy: 0.63\n",
      "   Validation took: 0:00:31\n",
      "======= Epoch 35 / 35 =======\n",
      "Training...\n",
      "Batch    12 of    75.     Elapsed: 0:22:14\n",
      "Batch    24 of    75.     Elapsed: 0:23:51\n",
      "Batch    36 of    75.     Elapsed: 0:25:31\n",
      "Batch    48 of    75.     Elapsed: 0:27:07\n",
      "Batch    60 of    75.     Elapsed: 0:28:38\n",
      "Batch    72 of    75.     Elapsed: 0:30:05\n",
      "   Average training loss: 0.00\n",
      "   Training epoch took: 0:30:23\n",
      "Running Validation...\n",
      "   Accuracy: 0.63\n",
      "   Validation took: 0:00:30\n",
=======
      "======= Epoch 1 / 5 =======\n",
      "Training...\n",
      "Batch    10 of    75.     Elapsed: 0:04:01\n",
      "Batch    20 of    75.     Elapsed: 0:07:13\n",
      "Batch    30 of    75.     Elapsed: 0:09:34\n",
      "Batch    40 of    75.     Elapsed: 0:12:01\n",
      "Batch    50 of    75.     Elapsed: 0:14:23\n",
      "Batch    60 of    75.     Elapsed: 0:16:45\n",
      "Batch    70 of    75.     Elapsed: 0:19:06\n",
      "   Average training loss: 1.00\n",
      "   Training epoch took: 0:20:10\n",
      "Running Validation...\n",
      "   Accuracy: 0.60\n",
      "   Validation took: 0:01:01\n",
      "======= Epoch 2 / 5 =======\n",
      "Training...\n",
      "Batch    10 of    75.     Elapsed: 0:02:25\n",
      "Batch    20 of    75.     Elapsed: 0:04:51\n",
      "Batch    30 of    75.     Elapsed: 0:07:18\n",
      "Batch    40 of    75.     Elapsed: 0:09:41\n",
      "Batch    50 of    75.     Elapsed: 0:12:06\n",
      "Batch    60 of    75.     Elapsed: 0:14:32\n",
      "Batch    70 of    75.     Elapsed: 0:16:56\n",
      "   Average training loss: 0.81\n",
      "   Training epoch took: 0:18:00\n",
      "Running Validation...\n",
      "   Accuracy: 0.64\n",
      "   Validation took: 0:01:01\n",
      "======= Epoch 3 / 5 =======\n",
      "Training...\n",
      "Batch    10 of    75.     Elapsed: 0:02:22\n",
      "Batch    20 of    75.     Elapsed: 0:04:44\n",
      "Batch    30 of    75.     Elapsed: 0:07:07\n",
      "Batch    40 of    75.     Elapsed: 0:09:28\n",
      "Batch    50 of    75.     Elapsed: 0:11:49\n",
      "Batch    60 of    75.     Elapsed: 0:14:10\n",
      "Batch    70 of    75.     Elapsed: 0:16:32\n",
      "   Average training loss: 0.67\n",
      "   Training epoch took: 0:17:36\n",
      "Running Validation...\n",
      "   Accuracy: 0.65\n",
      "   Validation took: 0:00:59\n",
      "======= Epoch 4 / 5 =======\n",
      "Training...\n",
      "Batch    10 of    75.     Elapsed: 0:02:21\n",
      "Batch    20 of    75.     Elapsed: 0:04:39\n",
      "Batch    30 of    75.     Elapsed: 0:07:02\n",
      "Batch    40 of    75.     Elapsed: 0:09:30\n",
      "Batch    50 of    75.     Elapsed: 0:24:01\n",
      "Batch    60 of    75.     Elapsed: 0:26:23\n",
      "Batch    70 of    75.     Elapsed: 0:28:46\n",
      "   Average training loss: 0.56\n",
      "   Training epoch took: 0:29:50\n",
      "Running Validation...\n",
      "   Accuracy: 0.68\n",
      "   Validation took: 0:00:59\n",
      "======= Epoch 5 / 5 =======\n",
      "Training...\n",
      "Batch    10 of    75.     Elapsed: 0:02:23\n",
      "Batch    20 of    75.     Elapsed: 0:04:45\n",
      "Batch    30 of    75.     Elapsed: 0:07:11\n",
      "Batch    40 of    75.     Elapsed: 0:09:34\n",
      "Batch    50 of    75.     Elapsed: 0:11:54\n",
      "Batch    60 of    75.     Elapsed: 0:14:15\n",
      "Batch    70 of    75.     Elapsed: 0:16:34\n",
      "   Average training loss: 0.49\n",
      "   Training epoch took: 0:17:38\n",
      "Running Validation...\n",
      "   Accuracy: 0.65\n",
      "   Validation took: 0:00:57\n",
>>>>>>> ce2fc16e7fd6dbee417d1e6228d010544e34e88e
      "Training complete!\n"
     ]
    }
   ],
   "source": [
    "import random\n",
    "\n",
    "seed_val = 42\n",
    "\n",
    "random.seed(seed_val)\n",
    "np.random.seed(seed_val)\n",
    "torch.manual_seed(seed_val)\n",
    "\n",
    "loss_values = []\n",
<<<<<<< HEAD
    "accuracies = []\n",
=======
>>>>>>> ce2fc16e7fd6dbee417d1e6228d010544e34e88e
    "\n",
    "for epoch_i in range(0, epochs):\n",
    "\n",
    "#Training time\n",
    "  print(\"======= Epoch {:} / {:} =======\".format(epoch_i+1, epochs))\n",
    "  print(\"Training...\")\n",
    "\n",
    "  t0 = time.time()\n",
    "\n",
    "  total_loss = 0\n",
    "#only to prepare the model in a state of where it's ready for training\n",
    "  model.train()\n",
    "\n",
    "  #for each batch of training data\n",
    "  for step, batch in enumerate(train_dataloader):\n",
    "    \n",
    "    #progress update every 10 batches\n",
<<<<<<< HEAD
    "    if step % 12 == 0 and not step == 0:\n",
=======
    "    if step % 10 == 0 and not step == 0:\n",
>>>>>>> ce2fc16e7fd6dbee417d1e6228d010544e34e88e
    "      elapsed = format_time(time.time() - t0)\n",
    "\n",
    "      print(\"Batch {:>5,} of {:>5,}.     Elapsed: {:}\".format(step, len(train_dataloader), elapsed))\n",
    "    \n",
    "    b_input_ids = batch[0].to(device)\n",
    "    b_input_mask = batch[1].to(device)\n",
    "    b_labels = batch[2].to(device)\n",
    "\n",
    "    model.zero_grad()\n",
    "\n",
    "    outputs = model(b_input_ids,\n",
    "                    token_type_ids=None,\n",
    "                    attention_mask=b_input_mask,\n",
    "                    labels=b_labels)\n",
    "    \n",
    "    loss = outputs[0]\n",
    "    total_loss += loss.item()\n",
    "    loss.backward()\n",
    "    torch.nn.utils.clip_grad_norm_(model.parameters(), 1.0)\n",
    "    optimizer.step()\n",
    "    scheduler.step()\n",
    "\n",
    "  avg_train_loss = total_loss / len(train_dataloader)\n",
    "  loss_values.append(avg_train_loss)\n",
    "\n",
    "  print(\"   Average training loss: {0:.2f}\".format(avg_train_loss))\n",
    "  print(\"   Training epoch took: {:}\".format(format_time(time.time() - t0)))\n",
    "\n",
    "#validation time\n",
    "  print(\"Running Validation...\")\n",
    "  t0 = time.time()\n",
    "  model.eval()\n",
    "  eval_loss, eval_accuracy = 0, 0\n",
    "  nb_eval_steps, nb_eval_examples = 0, 0\n",
    "\n",
    "  for batch in validation_dataloader:\n",
    "    batch = tuple(t.to(device) for t in batch)\n",
    "    b_input_ids, b_input_mask, b_labels = batch\n",
    "    with torch.no_grad():\n",
    "      outputs = model(b_input_ids,\n",
    "                      token_type_ids=None,\n",
    "                      attention_mask=b_input_mask)\n",
    "    \n",
    "    logits = outputs[0]\n",
    "    logits = logits.detach().cpu().numpy()\n",
    "    label_ids = b_labels.to('cpu').numpy()\n",
    "\n",
    "    tmp_eval_accuracy = flat_accuracy(logits, label_ids)\n",
    "    eval_accuracy += tmp_eval_accuracy\n",
    "    nb_eval_steps += 1\n",
<<<<<<< HEAD
    "    accurate = eval_accuracy/nb_eval_steps\n",
    "  \n",
    "  print(\"   Accuracy: {0:.2f}\".format(accurate))\n",
    "  print(\"   Validation took: {:}\".format(format_time(time.time() - t0)))\n",
    "\n",
    "  accuracies.append(accurate)\n",
    "\n",
=======
    "  \n",
    "  print(\"   Accuracy: {0:.2f}\".format(eval_accuracy/nb_eval_steps))\n",
    "  print(\"   Validation took: {:}\".format(format_time(time.time() - t0)))\n",
    "\n",
>>>>>>> ce2fc16e7fd6dbee417d1e6228d010544e34e88e
    "print(\"Training complete!\")"
   ]
  },
  {
   "cell_type": "code",
<<<<<<< HEAD
   "execution_count": 89,
=======
   "execution_count": 44,
>>>>>>> ce2fc16e7fd6dbee417d1e6228d010544e34e88e
   "id": "86d472d9-925a-4792-bb0d-81bd51156fb7",
   "metadata": {},
   "outputs": [
    {
     "data": {
<<<<<<< HEAD
      "image/png": "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",
=======
      "image/png": "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",
>>>>>>> ce2fc16e7fd6dbee417d1e6228d010544e34e88e
      "text/plain": [
       "<Figure size 1200x600 with 1 Axes>"
      ]
     },
     "metadata": {},
     "output_type": "display_data"
    }
   ],
   "source": [
    "%matplotlib inline\n",
    "import matplotlib.pyplot as plt\n",
    "\n",
    "\n",
    "#plotting will be continued once this thing is done training bro\n",
    "import seaborn as sns\n",
    "\n",
    "sns.set(style='darkgrid')\n",
    "\n",
    "sns.set(font_scale=1.5)\n",
    "plt.rcParams[\"figure.figsize\"] = (12,6)\n",
    "\n",
    "plt.plot(loss_values, 'b-o')\n",
<<<<<<< HEAD
    "plt.plot(accuracies, 'r-o')\n",
    "\n",
    "plt.title(\"Training loss vs accuracy\")\n",
=======
    "\n",
    "plt.title(\"Training loss\")\n",
>>>>>>> ce2fc16e7fd6dbee417d1e6228d010544e34e88e
    "plt.xlabel(\"Epoch\")\n",
    "plt.ylabel(\"Loss\")\n",
    "\n",
    "plt.show()"
   ]
  },
  {
   "cell_type": "code",
<<<<<<< HEAD
   "execution_count": 83,
=======
   "execution_count": 45,
>>>>>>> ce2fc16e7fd6dbee417d1e6228d010544e34e88e
   "id": "3adf3aa0-533d-48c2-8885-d7e4ff3fe532",
   "metadata": {},
   "outputs": [
    {
     "name": "stdout",
     "output_type": "stream",
     "text": [
      "Predicting labels for 312 test sentences\n",
      "finally??? done!!!!\n"
     ]
    }
   ],
   "source": [
    "print(\"Predicting labels for {:,} test sentences\".format(len(test_input)))\n",
    "\n",
    "model.eval()\n",
    "\n",
    "prediction, true_labels = [], []\n",
    "\n",
    "for batch in test_dataloader:\n",
    "  batch = tuple(t.to(device) for t in batch)\n",
    "\n",
    "  b_input_ids, b_input_mask, b_labels = batch\n",
    "\n",
    "  with torch.no_grad():\n",
    "    outputs = model(b_input_ids,\n",
    "                    token_type_ids=None,\n",
    "                    attention_mask=b_input_mask)\n",
    "    \n",
    "  logits = outputs[0]\n",
    "\n",
    "  logits = logits.detach().cpu().numpy()\n",
    "  label_ids = b_labels.to('cpu').numpy()\n",
    "\n",
    "  prediction.append(logits)\n",
    "  true_labels.append(label_ids)\n",
    "\n",
    "print(\"finally??? done!!!!\")"
   ]
  },
  {
   "cell_type": "code",
<<<<<<< HEAD
   "execution_count": 84,
=======
   "execution_count": 46,
>>>>>>> ce2fc16e7fd6dbee417d1e6228d010544e34e88e
   "id": "c526acc2-c923-4e17-8b61-d2456f5e4f60",
   "metadata": {},
   "outputs": [
    {
     "name": "stdout",
     "output_type": "stream",
     "text": [
      "     Predicted_Labels  True_Labels\n",
      "0                   2            2\n",
      "1                   2            2\n",
      "2                   2            2\n",
<<<<<<< HEAD
      "3                   2            2\n",
      "4                   2            2\n",
      "..                ...          ...\n",
      "307                 1            2\n",
      "308                 1            0\n",
=======
      "3                   0            2\n",
      "4                   2            2\n",
      "..                ...          ...\n",
      "307                 2            2\n",
      "308                 0            0\n",
>>>>>>> ce2fc16e7fd6dbee417d1e6228d010544e34e88e
      "309                 0            0\n",
      "310                 2            2\n",
      "311                 1            1\n",
      "\n",
      "[312 rows x 2 columns]\n"
     ]
    }
   ],
   "source": [
    "import numpy as np\n",
    "import pandas as pd\n",
    "\n",
    "# Assuming prediction and true_labels are lists\n",
    "\n",
    "# Convert lists to NumPy arrays\n",
    "prediction_array = np.concatenate(prediction, axis=0)\n",
    "true_labels_array = np.concatenate(true_labels, axis=0)\n",
    "\n",
    "# Create a DataFrame\n",
    "df = pd.DataFrame({\n",
    "    'Predicted_Labels': np.argmax(prediction_array, axis=1), \n",
    "    'True_Labels': true_labels_array\n",
    "})\n",
    "\n",
    "# Display the DataFrame\n",
    "print(df)"
   ]
  },
  {
   "cell_type": "code",
<<<<<<< HEAD
   "execution_count": 85,
=======
   "execution_count": 47,
>>>>>>> ce2fc16e7fd6dbee417d1e6228d010544e34e88e
   "id": "ff9bac89-cc53-4359-baa5-edbe1977bc49",
   "metadata": {},
   "outputs": [
    {
     "name": "stdout",
     "output_type": "stream",
     "text": [
<<<<<<< HEAD
      "MATTHEWS_CC: 0.466\n",
      "ACCURACY: 0.654\n",
      "PRECISION: 0.707\n",
      "RECALL: 0.654\n",
      "F1 SCORE: 0.668\n"
=======
      "MATTHEWS_CC: 0.487\n",
      "ACCURACY: 0.686\n",
      "PRECISION: 0.674\n",
      "RECALL: 0.686\n",
      "F1 SCORE: 0.678\n"
>>>>>>> ce2fc16e7fd6dbee417d1e6228d010544e34e88e
     ]
    }
   ],
   "source": [
    "from sklearn.metrics import matthews_corrcoef, accuracy_score, precision_score, recall_score, f1_score\n",
    "\n",
    "\n",
    "#convert lists to NumPy arrays\n",
    "flat_prediction = np.concatenate(prediction, axis=0)\n",
    "flat_true_labels = np.concatenate(true_labels, axis=0)\n",
    "\n",
    "#calculate Matthews Correlation Coefficient\n",
    "mcc = matthews_corrcoef(flat_true_labels, np.argmax(flat_prediction, axis=1))\n",
    "\n",
    "print(\"MATTHEWS_CC: %.3f\" % mcc)\n",
    "\n",
    "#calculate Accuracy\n",
    "acc = accuracy_score(flat_true_labels, np.argmax(flat_prediction, axis=1))\n",
    "\n",
    "print(\"ACCURACY: %.3f\" % acc)\n",
    "\n",
    "#calculate Precision\n",
    "precision = precision_score(flat_true_labels, np.argmax(flat_prediction, axis=1), average='weighted')\n",
    "\n",
    "print(\"PRECISION: %.3f\" % precision)\n",
    "\n",
    "#calculate Recall\n",
    "recall = recall_score(flat_true_labels, np.argmax(flat_prediction, axis=1), average='weighted')\n",
    "\n",
    "print(\"RECALL: %.3f\" % recall)\n",
    "\n",
    "#calculate F1-Score\n",
    "f1 = f1_score(flat_true_labels, np.argmax(flat_prediction, axis=1), average='weighted')\n",
    "\n",
    "print(\"F1 SCORE: %.3f\" % f1)"
   ]
  },
  {
   "cell_type": "code",
<<<<<<< HEAD
   "execution_count": 93,
=======
   "execution_count": 48,
>>>>>>> ce2fc16e7fd6dbee417d1e6228d010544e34e88e
   "id": "16fab2c6-a7cf-484f-b623-2e6c3757f699",
   "metadata": {},
   "outputs": [
    {
     "name": "stdout",
     "output_type": "stream",
     "text": [
<<<<<<< HEAD
      "Overall Accuracy: 65.38%\n",
      "Correct 0 predictions: 52/99\n",
      "Correct 1 predictions: 31/61\n",
      "Correct 2 predictions: 121/152\n"
=======
      "Overall Accuracy: 68.59%\n",
      "Correct 0 predictions: 65/99\n",
      "Correct 1 predictions: 20/61\n",
      "Correct 2 predictions: 129/152\n"
>>>>>>> ce2fc16e7fd6dbee417d1e6228d010544e34e88e
     ]
    }
   ],
   "source": [
    "import pandas as pd\n",
    "from sklearn.metrics import accuracy_score\n",
    "\n",
    "#add a column to df indicating whether the prediction is correct\n",
    "df['Correct_Prediction'] = df['True_Labels'] == df['Predicted_Labels']\n",
    "\n",
    "#calculate accuracy\n",
    "accuracy = accuracy_score(df['True_Labels'], df['Predicted_Labels'])\n",
    "print(\"Overall Accuracy: {:.2%}\".format(accuracy))\n",
    "\n",
    "#amount of correct predictions for each sentiment class\n",
    "for sentiment_class in [0, 1, 2]:  #0 for negative, 1 for neutral, 2 for positive\n",
    "    correct_predictions = df[df['Correct_Prediction'] & (df['True_Labels'] == sentiment_class)].shape[0]\n",
    "    total_samples = df[df['True_Labels'] == sentiment_class].shape[0]\n",
    "    print(\"Correct {} predictions: {}/{}\".format(sentiment_class, correct_predictions, total_samples))"
   ]
  },
  {
   "cell_type": "code",
<<<<<<< HEAD
   "execution_count": 94,
=======
   "execution_count": 49,
>>>>>>> ce2fc16e7fd6dbee417d1e6228d010544e34e88e
   "id": "0408f42e-ecd6-429a-8a23-6e31a39a7871",
   "metadata": {},
   "outputs": [
    {
     "data": {
      "text/html": [
       "<div>\n",
       "<style scoped>\n",
       "    .dataframe tbody tr th:only-of-type {\n",
       "        vertical-align: middle;\n",
       "    }\n",
       "\n",
       "    .dataframe tbody tr th {\n",
       "        vertical-align: top;\n",
       "    }\n",
       "\n",
       "    .dataframe thead th {\n",
       "        text-align: right;\n",
       "    }\n",
       "</style>\n",
       "<table border=\"1\" class=\"dataframe\">\n",
       "  <thead>\n",
       "    <tr style=\"text-align: right;\">\n",
       "      <th></th>\n",
       "      <th>Predicted_Labels</th>\n",
       "      <th>True_Labels</th>\n",
       "      <th>Correct_Prediction</th>\n",
       "    </tr>\n",
       "  </thead>\n",
       "  <tbody>\n",
       "    <tr>\n",
       "      <th>0</th>\n",
       "      <td>2</td>\n",
       "      <td>2</td>\n",
       "      <td>True</td>\n",
       "    </tr>\n",
       "    <tr>\n",
       "      <th>1</th>\n",
       "      <td>2</td>\n",
       "      <td>2</td>\n",
       "      <td>True</td>\n",
       "    </tr>\n",
       "    <tr>\n",
       "      <th>2</th>\n",
       "      <td>2</td>\n",
       "      <td>2</td>\n",
       "      <td>True</td>\n",
       "    </tr>\n",
       "    <tr>\n",
       "      <th>3</th>\n",
<<<<<<< HEAD
       "      <td>2</td>\n",
       "      <td>2</td>\n",
       "      <td>True</td>\n",
=======
       "      <td>0</td>\n",
       "      <td>2</td>\n",
       "      <td>False</td>\n",
>>>>>>> ce2fc16e7fd6dbee417d1e6228d010544e34e88e
       "    </tr>\n",
       "    <tr>\n",
       "      <th>4</th>\n",
       "      <td>2</td>\n",
       "      <td>2</td>\n",
       "      <td>True</td>\n",
       "    </tr>\n",
       "    <tr>\n",
       "      <th>5</th>\n",
       "      <td>0</td>\n",
       "      <td>0</td>\n",
       "      <td>True</td>\n",
       "    </tr>\n",
       "    <tr>\n",
       "      <th>6</th>\n",
       "      <td>2</td>\n",
       "      <td>2</td>\n",
       "      <td>True</td>\n",
       "    </tr>\n",
       "    <tr>\n",
       "      <th>7</th>\n",
<<<<<<< HEAD
       "      <td>1</td>\n",
       "      <td>1</td>\n",
       "      <td>True</td>\n",
=======
       "      <td>2</td>\n",
       "      <td>1</td>\n",
       "      <td>False</td>\n",
>>>>>>> ce2fc16e7fd6dbee417d1e6228d010544e34e88e
       "    </tr>\n",
       "    <tr>\n",
       "      <th>8</th>\n",
       "      <td>0</td>\n",
       "      <td>0</td>\n",
       "      <td>True</td>\n",
       "    </tr>\n",
       "    <tr>\n",
       "      <th>9</th>\n",
       "      <td>2</td>\n",
       "      <td>2</td>\n",
       "      <td>True</td>\n",
       "    </tr>\n",
<<<<<<< HEAD
       "    <tr>\n",
       "      <th>10</th>\n",
       "      <td>1</td>\n",
       "      <td>2</td>\n",
       "      <td>False</td>\n",
       "    </tr>\n",
       "    <tr>\n",
       "      <th>11</th>\n",
       "      <td>2</td>\n",
       "      <td>2</td>\n",
       "      <td>True</td>\n",
       "    </tr>\n",
       "    <tr>\n",
       "      <th>12</th>\n",
       "      <td>0</td>\n",
       "      <td>1</td>\n",
       "      <td>False</td>\n",
       "    </tr>\n",
       "    <tr>\n",
       "      <th>13</th>\n",
       "      <td>2</td>\n",
       "      <td>2</td>\n",
       "      <td>True</td>\n",
       "    </tr>\n",
       "    <tr>\n",
       "      <th>14</th>\n",
       "      <td>0</td>\n",
       "      <td>0</td>\n",
       "      <td>True</td>\n",
       "    </tr>\n",
       "    <tr>\n",
       "      <th>15</th>\n",
       "      <td>2</td>\n",
       "      <td>2</td>\n",
       "      <td>True</td>\n",
       "    </tr>\n",
       "    <tr>\n",
       "      <th>16</th>\n",
       "      <td>0</td>\n",
       "      <td>0</td>\n",
       "      <td>True</td>\n",
       "    </tr>\n",
       "    <tr>\n",
       "      <th>17</th>\n",
       "      <td>0</td>\n",
       "      <td>0</td>\n",
       "      <td>True</td>\n",
       "    </tr>\n",
       "    <tr>\n",
       "      <th>18</th>\n",
       "      <td>1</td>\n",
       "      <td>1</td>\n",
       "      <td>True</td>\n",
       "    </tr>\n",
       "    <tr>\n",
       "      <th>19</th>\n",
       "      <td>0</td>\n",
       "      <td>0</td>\n",
       "      <td>True</td>\n",
       "    </tr>\n",
=======
>>>>>>> ce2fc16e7fd6dbee417d1e6228d010544e34e88e
       "  </tbody>\n",
       "</table>\n",
       "</div>"
      ],
      "text/plain": [
<<<<<<< HEAD
       "    Predicted_Labels  True_Labels  Correct_Prediction\n",
       "0                  2            2                True\n",
       "1                  2            2                True\n",
       "2                  2            2                True\n",
       "3                  2            2                True\n",
       "4                  2            2                True\n",
       "5                  0            0                True\n",
       "6                  2            2                True\n",
       "7                  1            1                True\n",
       "8                  0            0                True\n",
       "9                  2            2                True\n",
       "10                 1            2               False\n",
       "11                 2            2                True\n",
       "12                 0            1               False\n",
       "13                 2            2                True\n",
       "14                 0            0                True\n",
       "15                 2            2                True\n",
       "16                 0            0                True\n",
       "17                 0            0                True\n",
       "18                 1            1                True\n",
       "19                 0            0                True"
      ]
     },
     "execution_count": 94,
=======
       "   Predicted_Labels  True_Labels  Correct_Prediction\n",
       "0                 2            2                True\n",
       "1                 2            2                True\n",
       "2                 2            2                True\n",
       "3                 0            2               False\n",
       "4                 2            2                True\n",
       "5                 0            0                True\n",
       "6                 2            2                True\n",
       "7                 2            1               False\n",
       "8                 0            0                True\n",
       "9                 2            2                True"
      ]
     },
     "execution_count": 49,
>>>>>>> ce2fc16e7fd6dbee417d1e6228d010544e34e88e
     "metadata": {},
     "output_type": "execute_result"
    }
   ],
   "source": [
<<<<<<< HEAD
    "df.head(20)"
=======
    "df.head(10)"
>>>>>>> ce2fc16e7fd6dbee417d1e6228d010544e34e88e
   ]
  },
  {
   "cell_type": "code",
<<<<<<< HEAD
   "execution_count": 95,
=======
   "execution_count": 50,
>>>>>>> ce2fc16e7fd6dbee417d1e6228d010544e34e88e
   "id": "c4516ac4-298d-4ffd-a983-55ceee2b8dc6",
   "metadata": {},
   "outputs": [
    {
     "data": {
      "text/html": [
       "<div>\n",
       "<style scoped>\n",
       "    .dataframe tbody tr th:only-of-type {\n",
       "        vertical-align: middle;\n",
       "    }\n",
       "\n",
       "    .dataframe tbody tr th {\n",
       "        vertical-align: top;\n",
       "    }\n",
       "\n",
       "    .dataframe thead th {\n",
       "        text-align: right;\n",
       "    }\n",
       "</style>\n",
       "<table border=\"1\" class=\"dataframe\">\n",
       "  <thead>\n",
       "    <tr style=\"text-align: right;\">\n",
       "      <th></th>\n",
       "      <th>Predicted_Labels</th>\n",
       "      <th>True_Labels</th>\n",
       "    </tr>\n",
       "  </thead>\n",
       "  <tbody>\n",
       "    <tr>\n",
       "      <th>0</th>\n",
       "      <td>2</td>\n",
       "      <td>2</td>\n",
       "    </tr>\n",
       "    <tr>\n",
       "      <th>1</th>\n",
       "      <td>2</td>\n",
       "      <td>2</td>\n",
       "    </tr>\n",
       "    <tr>\n",
       "      <th>2</th>\n",
       "      <td>2</td>\n",
       "      <td>2</td>\n",
       "    </tr>\n",
       "    <tr>\n",
       "      <th>3</th>\n",
<<<<<<< HEAD
       "      <td>2</td>\n",
=======
       "      <td>0</td>\n",
>>>>>>> ce2fc16e7fd6dbee417d1e6228d010544e34e88e
       "      <td>2</td>\n",
       "    </tr>\n",
       "    <tr>\n",
       "      <th>4</th>\n",
       "      <td>2</td>\n",
       "      <td>2</td>\n",
       "    </tr>\n",
       "    <tr>\n",
       "      <th>5</th>\n",
       "      <td>0</td>\n",
       "      <td>0</td>\n",
       "    </tr>\n",
       "    <tr>\n",
       "      <th>6</th>\n",
       "      <td>2</td>\n",
       "      <td>2</td>\n",
       "    </tr>\n",
       "    <tr>\n",
       "      <th>7</th>\n",
<<<<<<< HEAD
       "      <td>1</td>\n",
=======
       "      <td>2</td>\n",
>>>>>>> ce2fc16e7fd6dbee417d1e6228d010544e34e88e
       "      <td>1</td>\n",
       "    </tr>\n",
       "    <tr>\n",
       "      <th>8</th>\n",
       "      <td>0</td>\n",
       "      <td>0</td>\n",
       "    </tr>\n",
       "    <tr>\n",
       "      <th>9</th>\n",
       "      <td>2</td>\n",
       "      <td>2</td>\n",
       "    </tr>\n",
       "  </tbody>\n",
       "</table>\n",
       "</div>"
      ],
      "text/plain": [
       "   Predicted_Labels  True_Labels\n",
       "0                 2            2\n",
       "1                 2            2\n",
       "2                 2            2\n",
<<<<<<< HEAD
       "3                 2            2\n",
       "4                 2            2\n",
       "5                 0            0\n",
       "6                 2            2\n",
       "7                 1            1\n",
=======
       "3                 0            2\n",
       "4                 2            2\n",
       "5                 0            0\n",
       "6                 2            2\n",
       "7                 2            1\n",
>>>>>>> ce2fc16e7fd6dbee417d1e6228d010544e34e88e
       "8                 0            0\n",
       "9                 2            2"
      ]
     },
<<<<<<< HEAD
     "execution_count": 95,
=======
     "execution_count": 50,
>>>>>>> ce2fc16e7fd6dbee417d1e6228d010544e34e88e
     "metadata": {},
     "output_type": "execute_result"
    }
   ],
   "source": [
    "#drop the 'Correct_Prediction' column if not needed\n",
    "df = df.drop(columns=['Correct_Prediction'])\n",
    "df.head(10)"
   ]
<<<<<<< HEAD
=======
  },
  {
   "cell_type": "code",
   "execution_count": null,
   "id": "004147b9-e47f-4e01-a24d-ea6f45d20e65",
   "metadata": {},
   "outputs": [],
   "source": []
  },
  {
   "cell_type": "code",
   "execution_count": null,
   "id": "12778cc2-1d78-4729-8f76-72aeac4083d7",
   "metadata": {},
   "outputs": [],
   "source": []
>>>>>>> ce2fc16e7fd6dbee417d1e6228d010544e34e88e
  }
 ],
 "metadata": {
  "kernelspec": {
   "display_name": "Python 3 (ipykernel)",
   "language": "python",
   "name": "python3"
  },
  "language_info": {
   "codemirror_mode": {
    "name": "ipython",
    "version": 3
   },
   "file_extension": ".py",
   "mimetype": "text/x-python",
   "name": "python",
   "nbconvert_exporter": "python",
   "pygments_lexer": "ipython3",
<<<<<<< HEAD
   "version": "3.11.5"
=======
   "version": "3.10.0"
>>>>>>> ce2fc16e7fd6dbee417d1e6228d010544e34e88e
  }
 },
 "nbformat": 4,
 "nbformat_minor": 5
}
