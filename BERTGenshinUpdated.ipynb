{
 "cells": [
  {
   "cell_type": "code",
   "execution_count": 19,
   "id": "0fb2e176-f4ed-4cfe-89fd-0a1a22416bd8",
   "metadata": {},
   "outputs": [
    {
     "name": "stdout",
     "output_type": "stream",
     "text": [
      "No GPU available, using the CPU instead\n"
     ]
    }
   ],
   "source": [
    "#im using CPU hehe\n",
    "import torch\n",
    "\n",
    "if torch.cuda.is_available():\n",
    "  device = torch.device('cuda')\n",
    "\n",
    "  print('there are %d GPU(s) available.' % torch.cuda.device_count())\n",
    "\n",
    "  print('we will use the GPU: ', torch.cuda.get_device_name(0))\n",
    "\n",
    "else:\n",
    "  print(\"No GPU available, using the CPU instead\")\n",
    "  device = torch.device(\"cpu\")"
   ]
  },
  {
   "cell_type": "code",
   "execution_count": 20,
   "id": "42b9ba51-5a01-49e4-93c0-893703de3d44",
   "metadata": {},
   "outputs": [
    {
     "name": "stdout",
     "output_type": "stream",
     "text": [
      "Requirement already satisfied: transformers in c:\\users\\tiffa\\appdata\\local\\programs\\python\\python310\\lib\\site-packages (4.35.2)\n",
      "Requirement already satisfied: filelock in c:\\users\\tiffa\\appdata\\local\\programs\\python\\python310\\lib\\site-packages (from transformers) (3.0.12)\n",
      "Requirement already satisfied: regex!=2019.12.17 in c:\\users\\tiffa\\appdata\\local\\programs\\python\\python310\\lib\\site-packages (from transformers) (2023.8.8)\n",
      "Requirement already satisfied: requests in c:\\users\\tiffa\\appdata\\local\\programs\\python\\python310\\lib\\site-packages (from transformers) (2.31.0)\n",
      "Requirement already satisfied: packaging>=20.0 in c:\\users\\tiffa\\appdata\\local\\programs\\python\\python310\\lib\\site-packages (from transformers) (23.1)\n",
      "Requirement already satisfied: tokenizers<0.19,>=0.14 in c:\\users\\tiffa\\appdata\\local\\programs\\python\\python310\\lib\\site-packages (from transformers) (0.15.0)\n",
      "Requirement already satisfied: pyyaml>=5.1 in c:\\users\\tiffa\\appdata\\local\\programs\\python\\python310\\lib\\site-packages (from transformers) (6.0)\n",
      "Requirement already satisfied: tqdm>=4.27 in c:\\users\\tiffa\\appdata\\local\\programs\\python\\python310\\lib\\site-packages (from transformers) (4.66.1)\n",
      "Requirement already satisfied: huggingface-hub<1.0,>=0.16.4 in c:\\users\\tiffa\\appdata\\local\\programs\\python\\python310\\lib\\site-packages (from transformers) (0.19.4)\n",
      "Requirement already satisfied: numpy>=1.17 in c:\\users\\tiffa\\appdata\\local\\programs\\python\\python310\\lib\\site-packages (from transformers) (1.24.3)\n",
      "Requirement already satisfied: safetensors>=0.3.1 in c:\\users\\tiffa\\appdata\\local\\programs\\python\\python310\\lib\\site-packages (from transformers) (0.4.1)\n",
      "Requirement already satisfied: fsspec>=2023.5.0 in c:\\users\\tiffa\\appdata\\local\\programs\\python\\python310\\lib\\site-packages (from huggingface-hub<1.0,>=0.16.4->transformers) (2023.10.0)\n",
      "Requirement already satisfied: typing-extensions>=3.7.4.3 in c:\\users\\tiffa\\appdata\\local\\programs\\python\\python310\\lib\\site-packages (from huggingface-hub<1.0,>=0.16.4->transformers) (4.5.0)\n",
      "Requirement already satisfied: colorama in c:\\users\\tiffa\\appdata\\local\\programs\\python\\python310\\lib\\site-packages (from tqdm>=4.27->transformers) (0.4.6)\n",
      "Requirement already satisfied: charset-normalizer<4,>=2 in c:\\users\\tiffa\\appdata\\local\\programs\\python\\python310\\lib\\site-packages (from requests->transformers) (3.1.0)\n",
      "Requirement already satisfied: idna<4,>=2.5 in c:\\users\\tiffa\\appdata\\local\\programs\\python\\python310\\lib\\site-packages (from requests->transformers) (3.4)\n",
      "Requirement already satisfied: certifi>=2017.4.17 in c:\\users\\tiffa\\appdata\\local\\programs\\python\\python310\\lib\\site-packages (from requests->transformers) (2023.5.7)\n",
      "Requirement already satisfied: urllib3<3,>=1.21.1 in c:\\users\\tiffa\\appdata\\local\\programs\\python\\python310\\lib\\site-packages (from requests->transformers) (1.25.11)\n"
     ]
    },
    {
     "name": "stderr",
     "output_type": "stream",
     "text": [
      "WARNING: You are using pip version 21.2.3; however, version 23.3.1 is available.\n",
      "You should consider upgrading via the 'C:\\Users\\tiffa\\AppData\\Local\\Programs\\Python\\Python310\\python.exe -m pip install --upgrade pip' command.\n"
     ]
    }
   ],
   "source": [
    "#do pip install transformers if haven't\n",
    "!pip install transformers"
   ]
  },
  {
   "cell_type": "code",
   "execution_count": 21,
   "id": "65b72b2d-35de-4b24-83f1-61533312ae85",
   "metadata": {},
   "outputs": [
    {
     "data": {
      "text/plain": [
       "(3116, 2)"
      ]
     },
     "execution_count": 21,
     "metadata": {},
     "output_type": "execute_result"
    }
   ],
   "source": [
    "import pandas as pd\n",
    "\n",
    "df = pd.read_csv(\"./GenshinReview.csv\")\n",
    "df.shape"
   ]
  },
  {
   "cell_type": "code",
   "execution_count": 22,
   "id": "2f0730da-a87e-41fb-92d8-81eb892d8ec6",
   "metadata": {},
   "outputs": [
    {
     "data": {
      "text/html": [
       "<div>\n",
       "<style scoped>\n",
       "    .dataframe tbody tr th:only-of-type {\n",
       "        vertical-align: middle;\n",
       "    }\n",
       "\n",
       "    .dataframe tbody tr th {\n",
       "        vertical-align: top;\n",
       "    }\n",
       "\n",
       "    .dataframe thead th {\n",
       "        text-align: right;\n",
       "    }\n",
       "</style>\n",
       "<table border=\"1\" class=\"dataframe\">\n",
       "  <thead>\n",
       "    <tr style=\"text-align: right;\">\n",
       "      <th></th>\n",
       "      <th>score</th>\n",
       "      <th>content</th>\n",
       "    </tr>\n",
       "  </thead>\n",
       "  <tbody>\n",
       "    <tr>\n",
       "      <th>678</th>\n",
       "      <td>5</td>\n",
       "      <td>i love everything about this game but i hope g...</td>\n",
       "    </tr>\n",
       "    <tr>\n",
       "      <th>1375</th>\n",
       "      <td>4</td>\n",
       "      <td>it is an amazing game the graphics are on a di...</td>\n",
       "    </tr>\n",
       "    <tr>\n",
       "      <th>568</th>\n",
       "      <td>5</td>\n",
       "      <td>this was a great game i meet a lot of people t...</td>\n",
       "    </tr>\n",
       "    <tr>\n",
       "      <th>789</th>\n",
       "      <td>4</td>\n",
       "      <td>i have spent two years of my life in this game...</td>\n",
       "    </tr>\n",
       "    <tr>\n",
       "      <th>881</th>\n",
       "      <td>4</td>\n",
       "      <td>its a really amazing game tho i am stuck on th...</td>\n",
       "    </tr>\n",
       "    <tr>\n",
       "      <th>3008</th>\n",
       "      <td>1</td>\n",
       "      <td>i was just playing yesterday and now i cannot ...</td>\n",
       "    </tr>\n",
       "    <tr>\n",
       "      <th>755</th>\n",
       "      <td>5</td>\n",
       "      <td>you guys have no idea how much i love this gam...</td>\n",
       "    </tr>\n",
       "    <tr>\n",
       "      <th>2266</th>\n",
       "      <td>3</td>\n",
       "      <td>i love the game but the issue of resin limits ...</td>\n",
       "    </tr>\n",
       "    <tr>\n",
       "      <th>567</th>\n",
       "      <td>2</td>\n",
       "      <td>the security in this game needs fixing my year...</td>\n",
       "    </tr>\n",
       "    <tr>\n",
       "      <th>1587</th>\n",
       "      <td>4</td>\n",
       "      <td>may as well update my review i would give it f...</td>\n",
       "    </tr>\n",
       "  </tbody>\n",
       "</table>\n",
       "</div>"
      ],
      "text/plain": [
       "      score                                            content\n",
       "678       5  i love everything about this game but i hope g...\n",
       "1375      4  it is an amazing game the graphics are on a di...\n",
       "568       5  this was a great game i meet a lot of people t...\n",
       "789       4  i have spent two years of my life in this game...\n",
       "881       4  its a really amazing game tho i am stuck on th...\n",
       "3008      1  i was just playing yesterday and now i cannot ...\n",
       "755       5  you guys have no idea how much i love this gam...\n",
       "2266      3  i love the game but the issue of resin limits ...\n",
       "567       2  the security in this game needs fixing my year...\n",
       "1587      4  may as well update my review i would give it f..."
      ]
     },
     "execution_count": 22,
     "metadata": {},
     "output_type": "execute_result"
    }
   ],
   "source": [
    "df.sample(10)"
   ]
  },
  {
   "cell_type": "code",
   "execution_count": 23,
   "id": "87e3612a-cbcb-43b2-93a3-30ae7f3f5956",
   "metadata": {},
   "outputs": [
    {
     "data": {
      "text/html": [
       "<div>\n",
       "<style scoped>\n",
       "    .dataframe tbody tr th:only-of-type {\n",
       "        vertical-align: middle;\n",
       "    }\n",
       "\n",
       "    .dataframe tbody tr th {\n",
       "        vertical-align: top;\n",
       "    }\n",
       "\n",
       "    .dataframe thead th {\n",
       "        text-align: right;\n",
       "    }\n",
       "</style>\n",
       "<table border=\"1\" class=\"dataframe\">\n",
       "  <thead>\n",
       "    <tr style=\"text-align: right;\">\n",
       "      <th></th>\n",
       "      <th>score</th>\n",
       "      <th>content</th>\n",
       "      <th>sentiment</th>\n",
       "    </tr>\n",
       "  </thead>\n",
       "  <tbody>\n",
       "    <tr>\n",
       "      <th>0</th>\n",
       "      <td>3</td>\n",
       "      <td>the game is amazing it is visuals characters a...</td>\n",
       "      <td>1</td>\n",
       "    </tr>\n",
       "    <tr>\n",
       "      <th>1</th>\n",
       "      <td>5</td>\n",
       "      <td>i have been playing for a year and a half now ...</td>\n",
       "      <td>2</td>\n",
       "    </tr>\n",
       "    <tr>\n",
       "      <th>2</th>\n",
       "      <td>5</td>\n",
       "      <td>graphics is very good and story line is best</td>\n",
       "      <td>2</td>\n",
       "    </tr>\n",
       "    <tr>\n",
       "      <th>3</th>\n",
       "      <td>5</td>\n",
       "      <td>it is a cool game but needs flagship lvl phone...</td>\n",
       "      <td>2</td>\n",
       "    </tr>\n",
       "    <tr>\n",
       "      <th>4</th>\n",
       "      <td>5</td>\n",
       "      <td>it is a best game but i have only one problem ...</td>\n",
       "      <td>2</td>\n",
       "    </tr>\n",
       "    <tr>\n",
       "      <th>5</th>\n",
       "      <td>5</td>\n",
       "      <td>nothing to say this is my first time play it a...</td>\n",
       "      <td>2</td>\n",
       "    </tr>\n",
       "    <tr>\n",
       "      <th>6</th>\n",
       "      <td>3</td>\n",
       "      <td>to big of a game on mobile its like six gb for...</td>\n",
       "      <td>1</td>\n",
       "    </tr>\n",
       "    <tr>\n",
       "      <th>7</th>\n",
       "      <td>5</td>\n",
       "      <td>what an amazing game huge map never had a lag ...</td>\n",
       "      <td>2</td>\n",
       "    </tr>\n",
       "    <tr>\n",
       "      <th>8</th>\n",
       "      <td>1</td>\n",
       "      <td>the new event does not even work properly the ...</td>\n",
       "      <td>0</td>\n",
       "    </tr>\n",
       "    <tr>\n",
       "      <th>9</th>\n",
       "      <td>5</td>\n",
       "      <td>i love this game its my favorite it is just th...</td>\n",
       "      <td>2</td>\n",
       "    </tr>\n",
       "    <tr>\n",
       "      <th>10</th>\n",
       "      <td>5</td>\n",
       "      <td>i love the story am at rank eight even though ...</td>\n",
       "      <td>2</td>\n",
       "    </tr>\n",
       "    <tr>\n",
       "      <th>11</th>\n",
       "      <td>5</td>\n",
       "      <td>best game evverrrr there is loads of descripti...</td>\n",
       "      <td>2</td>\n",
       "    </tr>\n",
       "    <tr>\n",
       "      <th>12</th>\n",
       "      <td>2</td>\n",
       "      <td>recently i have only been getting a black scre...</td>\n",
       "      <td>0</td>\n",
       "    </tr>\n",
       "    <tr>\n",
       "      <th>13</th>\n",
       "      <td>4</td>\n",
       "      <td>on a plus side the games a great combination o...</td>\n",
       "      <td>2</td>\n",
       "    </tr>\n",
       "    <tr>\n",
       "      <th>14</th>\n",
       "      <td>5</td>\n",
       "      <td>it is a very impressive game and have a very g...</td>\n",
       "      <td>2</td>\n",
       "    </tr>\n",
       "    <tr>\n",
       "      <th>15</th>\n",
       "      <td>5</td>\n",
       "      <td>this is my second life living as an adventurer...</td>\n",
       "      <td>2</td>\n",
       "    </tr>\n",
       "    <tr>\n",
       "      <th>16</th>\n",
       "      <td>2</td>\n",
       "      <td>too much grind unlike other gacha games still ...</td>\n",
       "      <td>0</td>\n",
       "    </tr>\n",
       "    <tr>\n",
       "      <th>17</th>\n",
       "      <td>5</td>\n",
       "      <td>i hope they add a arabic translation transcrip...</td>\n",
       "      <td>2</td>\n",
       "    </tr>\n",
       "    <tr>\n",
       "      <th>18</th>\n",
       "      <td>5</td>\n",
       "      <td>amazing game and free roam is the best part an...</td>\n",
       "      <td>2</td>\n",
       "    </tr>\n",
       "    <tr>\n",
       "      <th>19</th>\n",
       "      <td>5</td>\n",
       "      <td>good game so far just wish we could team up wi...</td>\n",
       "      <td>2</td>\n",
       "    </tr>\n",
       "  </tbody>\n",
       "</table>\n",
       "</div>"
      ],
      "text/plain": [
       "    score                                            content  sentiment\n",
       "0       3  the game is amazing it is visuals characters a...          1\n",
       "1       5  i have been playing for a year and a half now ...          2\n",
       "2       5       graphics is very good and story line is best          2\n",
       "3       5  it is a cool game but needs flagship lvl phone...          2\n",
       "4       5  it is a best game but i have only one problem ...          2\n",
       "5       5  nothing to say this is my first time play it a...          2\n",
       "6       3  to big of a game on mobile its like six gb for...          1\n",
       "7       5  what an amazing game huge map never had a lag ...          2\n",
       "8       1  the new event does not even work properly the ...          0\n",
       "9       5  i love this game its my favorite it is just th...          2\n",
       "10      5  i love the story am at rank eight even though ...          2\n",
       "11      5  best game evverrrr there is loads of descripti...          2\n",
       "12      2  recently i have only been getting a black scre...          0\n",
       "13      4  on a plus side the games a great combination o...          2\n",
       "14      5  it is a very impressive game and have a very g...          2\n",
       "15      5  this is my second life living as an adventurer...          2\n",
       "16      2  too much grind unlike other gacha games still ...          0\n",
       "17      5  i hope they add a arabic translation transcrip...          2\n",
       "18      5  amazing game and free roam is the best part an...          2\n",
       "19      5  good game so far just wish we could team up wi...          2"
      ]
     },
     "execution_count": 23,
     "metadata": {},
     "output_type": "execute_result"
    }
   ],
   "source": [
    "#creating label called sentiment from the score reviews\n",
    "#1-2: negative\n",
    "#3: neutral\n",
    "#4-5: positive\n",
    "\n",
    "def map_rating_to_sentiment(rating):\n",
    "    if rating in [1, 2]:\n",
    "        return 0\n",
    "    elif rating == 3:\n",
    "        return 1\n",
    "    elif rating in [4, 5]:\n",
    "        return 2\n",
    "\n",
    "df['sentiment'] = df['score'].apply(map_rating_to_sentiment)\n",
    "\n",
    "df.head(20)"
   ]
  },
  {
   "cell_type": "code",
   "execution_count": 24,
   "id": "a6118939-b00a-48c9-9b01-b3baa5187b4c",
   "metadata": {},
   "outputs": [
    {
     "data": {
      "image/png": "[encoded data removed]",
      "text/plain": [
       "<Figure size 640x480 with 1 Axes>"
      ]
     },
     "metadata": {},
     "output_type": "display_data"
    }
   ],
   "source": [
    "import seaborn as sns\n",
    "import matplotlib.pyplot as plt\n",
    "\n",
    "#for now we have 2000 rows of reviews. we'll add more data perhaps later if the accuracy is still bad.\n",
    "x = df.sentiment.value_counts()\n",
    "sns.barplot(x=x.index, y=x)\n",
    "plt.gca().set_ylabel('reviews')\n",
    "plt.show()"
   ]
  },
  {
   "cell_type": "code",
   "execution_count": 25,
   "id": "c82d19b5-ca60-478b-8520-31424da41efa",
   "metadata": {},
   "outputs": [],
   "source": [
    "sentences = df.content.values\n",
    "labels = df.sentiment.values"
   ]
  },
  {
   "cell_type": "code",
   "execution_count": 26,
   "id": "4f0f76fb-cbf8-473b-8897-ee818ca96763",
   "metadata": {},
   "outputs": [
    {
     "name": "stdout",
     "output_type": "stream",
     "text": [
      "Loading BERT Tokenizer\n"
     ]
    }
   ],
   "source": [
    "from transformers import BertTokenizer\n",
    "#using pretrained bert tokenizer\n",
    "print(\"Loading BERT Tokenizer\")\n",
    "tokenizer = BertTokenizer.from_pretrained('bert-base-multilingual-uncased', do_lower_case=True)"
   ]
  },
  {
   "cell_type": "code",
   "execution_count": 27,
   "id": "710c3f7e-f67b-4acd-b6c0-a877ae628f8a",
   "metadata": {},
   "outputs": [
    {
     "name": "stdout",
     "output_type": "stream",
     "text": [
      "Original:  the game is amazing it is visuals characters and gameplay are awesome as hell the only problem are the rewards that are way too bad the commissions do not give you the needed primogems for even pull the quests take too much time and again give almost nothing as a reward the events are cool and the developers constantly introduce new mechanics to the game the d anniversary rewards we are awful\n",
      "Tokenized:  ['the', 'game', 'is', 'amazing', 'it', 'is', 'visual', '##s', 'characters', 'and', 'gameplay', 'are', 'aw', '##eso', '##me', 'as', 'hell', 'the', 'only', 'problem', 'are', 'the', 'reward', '##s', 'that', 'are', 'way', 'too', 'bad', 'the', 'commissions', 'do', 'not', 'give', 'you', 'the', 'needed', 'primo', '##gem', '##s', 'for', 'even', 'pull', 'the', 'quest', '##s', 'take', 'too', 'much', 'time', 'and', 'again', 'give', 'almost', 'nothing', 'as', 'a', 'reward', 'the', 'events', 'are', 'cool', 'and', 'the', 'developers', 'constantly', 'introduce', 'new', 'mechanics', 'to', 'the', 'game', 'the', 'd', 'anniversary', 'reward', '##s', 'we', 'are', 'aw', '##ful']\n",
      "Token IDS:  [10103, 11336, 10127, 39854, 10197, 10127, 18785, 10107, 18751, 10110, 66362, 10320, 37079, 42279, 10688, 10146, 19575, 10103, 10902, 15640, 10320, 10103, 92306, 10107, 10203, 10320, 12140, 14666, 12428, 10103, 78347, 10154, 10497, 16118, 10855, 10103, 23615, 12195, 21538, 10107, 10139, 12818, 59289, 10103, 17248, 10107, 11622, 14666, 12977, 10573, 10110, 12590, 16118, 16398, 20587, 10146, 143, 92306, 10103, 15017, 10320, 26462, 10110, 10103, 62961, 79296, 52707, 10246, 44984, 10114, 10103, 11336, 10103, 146, 23491, 92306, 10107, 11312, 10320, 37079, 15836]\n"
     ]
    }
   ],
   "source": [
    "print(\"Original: \", sentences[0])\n",
    "#yes it's not perfect, game word terms like primogems are not identified as english word.\n",
    "print(\"Tokenized: \", tokenizer.tokenize(sentences[0]))\n",
    "#tokenization time\n",
    "print(\"Token IDS: \", tokenizer.convert_tokens_to_ids(tokenizer.tokenize(sentences[0])))"
   ]
  },
  {
   "cell_type": "code",
   "execution_count": 28,
   "id": "c987ea87-1ae2-4cd4-a3e7-74d8f3a448dc",
   "metadata": {},
   "outputs": [
    {
     "name": "stdout",
     "output_type": "stream",
     "text": [
      "Original:  the game is amazing it is visuals characters and gameplay are awesome as hell the only problem are the rewards that are way too bad the commissions do not give you the needed primogems for even pull the quests take too much time and again give almost nothing as a reward the events are cool and the developers constantly introduce new mechanics to the game the d anniversary rewards we are awful\n",
      "Token IDs:  [101, 10103, 11336, 10127, 39854, 10197, 10127, 18785, 10107, 18751, 10110, 66362, 10320, 37079, 42279, 10688, 10146, 19575, 10103, 10902, 15640, 10320, 10103, 92306, 10107, 10203, 10320, 12140, 14666, 12428, 10103, 78347, 10154, 10497, 16118, 10855, 10103, 23615, 12195, 21538, 10107, 10139, 12818, 59289, 10103, 17248, 10107, 11622, 14666, 12977, 10573, 10110, 12590, 16118, 16398, 20587, 10146, 143, 92306, 10103, 15017, 10320, 26462, 10110, 10103, 62961, 79296, 52707, 10246, 44984, 10114, 10103, 11336, 10103, 146, 23491, 92306, 10107, 11312, 10320, 37079, 15836, 102]\n"
     ]
    }
   ],
   "source": [
    "input_ids = []\n",
    "\n",
    "for sent in sentences:\n",
    "  encoded_sent = tokenizer.encode(\n",
    "      sent,\n",
    "      add_special_tokens = True\n",
    "  )\n",
    "  input_ids.append(encoded_sent)\n",
    "\n",
    "print(\"Original: \", sentences[0])\n",
    "print(\"Token IDs: \", input_ids[0])\n"
   ]
  },
  {
   "cell_type": "code",
   "execution_count": 29,
   "id": "32880d3d-c569-4ddf-b396-591da9209d41",
   "metadata": {},
   "outputs": [
    {
     "name": "stdout",
     "output_type": "stream",
     "text": [
      "Max sentence length:  268\n"
     ]
    }
   ],
   "source": [
    "print(\"Max sentence length: \", max([len(sen) for sen in input_ids]))"
   ]
  },
  {
   "cell_type": "code",
   "execution_count": 30,
   "id": "48350909-3a6c-4beb-8ea4-ac95f76df530",
   "metadata": {},
   "outputs": [
    {
     "name": "stdout",
     "output_type": "stream",
     "text": [
      "Padding/truncating all sentences to 64 values\n",
      "Padding token: \"[PAD]\", ID: 0\n",
      "Done\n"
     ]
    }
   ],
   "source": [
    "from keras.preprocessing.sequence import pad_sequences\n",
    "\n",
    "MAX_LEN = 64\n",
    "\n",
    "print(\"Padding/truncating all sentences to %d values\" % MAX_LEN)\n",
    "print('Padding token: \"{:}\", ID: {:}'.format(tokenizer.pad_token, tokenizer.pad_token_id))\n",
    "\n",
    "input_ids = pad_sequences(input_ids, maxlen=MAX_LEN, dtype='long', value=0, truncating='post', padding='post')\n",
    "\n",
    "print(\"Done\")"
   ]
  },
  {
   "cell_type": "code",
   "execution_count": 31,
   "id": "7556e2be-6b91-4a8b-9bd0-7625be11f18a",
   "metadata": {},
   "outputs": [
    {
     "data": {
      "text/plain": [
       "array([  101, 10103, 11336, 10127, 39854, 10197, 10127, 18785, 10107,\n",
       "       18751, 10110, 66362, 10320, 37079, 42279, 10688, 10146, 19575,\n",
       "       10103, 10902, 15640, 10320, 10103, 92306, 10107, 10203, 10320,\n",
       "       12140, 14666, 12428, 10103, 78347, 10154, 10497, 16118, 10855,\n",
       "       10103, 23615, 12195, 21538, 10107, 10139, 12818, 59289, 10103,\n",
       "       17248, 10107, 11622, 14666, 12977, 10573, 10110, 12590, 16118,\n",
       "       16398, 20587, 10146,   143, 92306, 10103, 15017, 10320, 26462,\n",
       "       10110])"
      ]
     },
     "execution_count": 31,
     "metadata": {},
     "output_type": "execute_result"
    }
   ],
   "source": [
    "input_ids[0]"
   ]
  },
  {
   "cell_type": "code",
   "execution_count": 32,
   "id": "a21e22b7-db63-41f8-80a4-6a74471808fe",
   "metadata": {},
   "outputs": [],
   "source": [
    "attention_mask = []\n",
    "\n",
    "for sent in input_ids:\n",
    "  att_mask = [int(token_id > 0) for token_id in sent]\n",
    "\n",
    "  attention_mask.append(att_mask)"
   ]
  },
  {
   "cell_type": "code",
   "execution_count": 33,
   "id": "a962323b-f6f3-4760-9043-1492dc8fa3ef",
   "metadata": {},
   "outputs": [],
   "source": [
    "from sklearn.model_selection import train_test_split\n",
    "\n",
    "train_input, test_input, train_labels, test_labels = train_test_split(input_ids,labels, random_state=42, test_size=0.1)\n",
    "train_mask, test_mask, _, _ = train_test_split(attention_mask, labels, random_state=42, test_size=0.1)\n",
    "\n",
    "train_input, validation_input, train_labels, validation_labels = train_test_split(train_input, train_labels, random_state= 43, test_size=0.15)\n",
    "train_mask, validation_mask, _, _ = train_test_split(train_mask, train_mask, random_state=43, test_size=0.15)"
   ]
  },
  {
   "cell_type": "code",
   "execution_count": 34,
   "id": "936bbcbf-b091-4cd5-bc32-d01a7d5177e6",
   "metadata": {},
   "outputs": [
    {
     "name": "stdout",
     "output_type": "stream",
     "text": [
      "== Train ==\n",
      "Input:  (2383, 64)\n",
      "Label:  (2383,)\n",
      "Mask:  (2383, 64)\n",
      "\n",
      "== Validation ==\n",
      "Input:  (421, 64)\n",
      "Label:  (421,)\n",
      "Mask:  (421, 64)\n",
      "\n",
      "== Test ==\n",
      "Input:  (312, 64)\n",
      "Label:  (312,)\n",
      "Mask:  (312, 64)\n"
     ]
    }
   ],
   "source": [
    "import numpy as np\n",
    "print(\"== Train ==\")\n",
    "print(\"Input: \", train_input.shape)\n",
    "print(\"Label: \", train_labels.shape)\n",
    "print(\"Mask: \", np.array(train_mask).shape)\n",
    "\n",
    "print(\"\\n== Validation ==\")\n",
    "print(\"Input: \", validation_input.shape)\n",
    "print(\"Label: \", validation_labels.shape)\n",
    "print(\"Mask: \", np.array(validation_mask).shape)\n",
    "\n",
    "print(\"\\n== Test ==\")\n",
    "print(\"Input: \", test_input.shape)\n",
    "print(\"Label: \", test_labels.shape)\n",
    "print(\"Mask: \", np.array(test_mask).shape)"
   ]
  },
  {
   "cell_type": "code",
   "execution_count": 35,
   "id": "b0021144-8963-4966-9e73-a4718736bc3d",
   "metadata": {},
   "outputs": [],
   "source": [
    "train_input = torch.tensor(train_input)\n",
    "train_labels = torch.tensor(train_labels)\n",
    "train_mask = torch.tensor(train_mask)\n",
    "\n",
    "validation_input = torch.tensor(validation_input)\n",
    "validation_labels = torch.tensor(validation_labels)\n",
    "validation_mask = torch.tensor(validation_mask)\n",
    "\n",
    "test_input = torch.tensor(test_input)\n",
    "test_labels = torch.tensor(test_labels)\n",
    "test_mask = torch.tensor(test_mask)"
   ]
  },
  {
   "cell_type": "code",
   "execution_count": 36,
   "id": "9039a566-da1d-4266-9007-00515a0ef8db",
   "metadata": {},
   "outputs": [],
   "source": [
    "from torch.utils.data import TensorDataset, DataLoader, RandomSampler, SequentialSampler\n",
    "\n",
    "batch_size = 32\n",
    "\n",
    "train_data = TensorDataset(train_input, train_mask, train_labels)\n",
    "train_sampler = RandomSampler(train_data)\n",
    "train_dataloader = DataLoader(train_data, sampler=train_sampler, batch_size=batch_size)\n",
    "\n",
    "validation_data = TensorDataset(validation_input, validation_mask, validation_labels)\n",
    "validation_sampler = SequentialSampler(validation_data)\n",
    "validation_dataloader = DataLoader(validation_data, sampler=validation_sampler, batch_size=batch_size)\n",
    "\n",
    "test_data = TensorDataset(test_input, test_mask, test_labels)\n",
    "test_sampler = SequentialSampler(test_data)\n",
    "test_dataloader = DataLoader(test_data, sampler=test_sampler, batch_size=batch_size)"
   ]
  },
  {
   "cell_type": "code",
   "execution_count": 37,
   "id": "7de96595-35fb-45c5-b035-9a34866e6c8e",
   "metadata": {},
   "outputs": [
    {
     "name": "stderr",
     "output_type": "stream",
     "text": [
      "Some weights of BertForSequenceClassification were not initialized from the model checkpoint at bert-base-multilingual-uncased and are newly initialized: ['classifier.bias', 'classifier.weight']\n",
      "You should probably TRAIN this model on a down-stream task to be able to use it for predictions and inference.\n"
     ]
    }
   ],
   "source": [
    "from transformers import BertForSequenceClassification, AdamW, BertConfig\n",
    "\n",
    "model = BertForSequenceClassification.from_pretrained(\n",
    "    \"bert-base-multilingual-uncased\",\n",
    "    num_labels = 3,\n",
    "    output_attentions = False,\n",
    "    output_hidden_states = False\n",
    ")\n"
   ]
  },
  {
   "cell_type": "code",
   "execution_count": 38,
   "id": "944da474-e6a2-4bf3-bdc3-9587f05ee1f6",
   "metadata": {},
   "outputs": [
    {
     "name": "stdout",
     "output_type": "stream",
     "text": [
      "The BERT model has 201 different named parameters.\n",
      "==== Embedding Layer ====\n",
      "bert.embeddings.word_embeddings.weight                       (105879, 768)\n",
      "bert.embeddings.position_embeddings.weight                     (512, 768)\n",
      "bert.embeddings.token_type_embeddings.weight                     (2, 768)\n",
      "bert.embeddings.LayerNorm.weight                                   (768,)\n",
      "bert.embeddings.LayerNorm.bias                                     (768,)\n",
      "==== First Transformers ====\n",
      "bert.encoder.layer.0.attention.self.query.weight               (768, 768)\n",
      "bert.encoder.layer.0.attention.self.query.bias                     (768,)\n",
      "bert.encoder.layer.0.attention.self.key.weight                 (768, 768)\n",
      "bert.encoder.layer.0.attention.self.key.bias                       (768,)\n",
      "bert.encoder.layer.0.attention.self.value.weight               (768, 768)\n",
      "bert.encoder.layer.0.attention.self.value.bias                     (768,)\n",
      "bert.encoder.layer.0.attention.output.dense.weight             (768, 768)\n",
      "bert.encoder.layer.0.attention.output.dense.bias                   (768,)\n",
      "bert.encoder.layer.0.attention.output.LayerNorm.weight             (768,)\n",
      "bert.encoder.layer.0.attention.output.LayerNorm.bias               (768,)\n",
      "bert.encoder.layer.0.intermediate.dense.weight                (3072, 768)\n",
      "bert.encoder.layer.0.intermediate.dense.bias                      (3072,)\n",
      "bert.encoder.layer.0.output.dense.weight                      (768, 3072)\n",
      "bert.encoder.layer.0.output.dense.bias                             (768,)\n",
      "bert.encoder.layer.0.output.LayerNorm.weight                       (768,)\n",
      "bert.encoder.layer.0.output.LayerNorm.bias                         (768,)\n",
      "==== Output Layer ====\n",
      "bert.pooler.dense.weight                                       (768, 768)\n",
      "bert.pooler.dense.bias                                             (768,)\n",
      "classifier.weight                                                (3, 768)\n",
      "classifier.bias                                                      (3,)\n"
     ]
    }
   ],
   "source": [
    "params = list(model.named_parameters())\n",
    "\n",
    "print(\"The BERT model has {:} different named parameters.\".format(len(params)))\n",
    "\n",
    "print(\"==== Embedding Layer ====\")\n",
    "for p in params[0:5]:\n",
    "  print(\"{:<60} {:>12}\".format(p[0], str(tuple(p[1].size()))))\n",
    "\n",
    "print(\"==== First Transformers ====\")\n",
    "for p in params[5:21]:\n",
    "  print(\"{:<60} {:>12}\".format(p[0], str(tuple(p[1].size()))))\n",
    "\n",
    "print(\"==== Output Layer ====\")\n",
    "for p in params[-4:]:\n",
    "  print(\"{:<60} {:>12}\".format(p[0], str(tuple(p[1].size()))))"
   ]
  },
  {
   "cell_type": "code",
   "execution_count": 39,
   "id": "2c6481e3-56af-4cc0-93ad-0387207048a0",
   "metadata": {},
   "outputs": [
    {
     "name": "stderr",
     "output_type": "stream",
     "text": [
      "C:\\Users\\tiffa\\AppData\\Local\\Programs\\Python\\Python310\\lib\\site-packages\\transformers\\optimization.py:411: FutureWarning: This implementation of AdamW is deprecated and will be removed in a future version. Use the PyTorch implementation torch.optim.AdamW instead, or set `no_deprecation_warning=True` to disable this warning\n",
      "  warnings.warn(\n"
     ]
    }
   ],
   "source": [
    "optimizer = AdamW(\n",
    "    model.parameters(),\n",
    "    lr = 2e-5,\n",
    "    eps = 1e-8\n",
    ")"
   ]
  },
  {
   "cell_type": "code",
   "execution_count": 40,
   "id": "5dbefe2a-27e8-4afe-aa37-c1d6dc6a26be",
   "metadata": {},
   "outputs": [],
   "source": [
    "from transformers import get_linear_schedule_with_warmup\n",
    "\n",
    "epochs = 5\n",
    "\n",
    "total_steps = len(train_dataloader) * epochs\n",
    "\n",
    "scheduler = get_linear_schedule_with_warmup(optimizer, num_warmup_steps = 0, num_training_steps = total_steps)"
   ]
  },
  {
   "cell_type": "code",
   "execution_count": 41,
   "id": "261b2888-3dd6-453c-91b0-a4ba17a1cff0",
   "metadata": {},
   "outputs": [],
   "source": [
    "import numpy as np\n",
    "\n",
    "def flat_accuracy(preds, labels):\n",
    "  pred_flat = np.argmax(preds, axis=1).flatten()\n",
    "  labels_flat = labels.flatten()\n",
    "  return np.sum(pred_flat == labels_flat) / len(labels_flat)"
   ]
  },
  {
   "cell_type": "code",
   "execution_count": 42,
   "id": "07e9684b-db8d-4294-b143-b5581e40e63b",
   "metadata": {},
   "outputs": [],
   "source": [
    "import time\n",
    "import datetime\n",
    "\n",
    "def format_time(elapsed):\n",
    "  elapsed_rounded = int(round(elapsed))\n",
    "  return str(datetime.timedelta(seconds=elapsed_rounded))"
   ]
  },
  {
   "cell_type": "code",
   "execution_count": 43,
   "id": "f51b87a3-5279-4ec8-a30c-be075447da17",
   "metadata": {},
   "outputs": [
    {
     "name": "stdout",
     "output_type": "stream",
     "text": [
      "======= Epoch 1 / 5 =======\n",
      "Training...\n",
      "Batch    10 of    75.     Elapsed: 0:04:01\n",
      "Batch    20 of    75.     Elapsed: 0:07:13\n",
      "Batch    30 of    75.     Elapsed: 0:09:34\n",
      "Batch    40 of    75.     Elapsed: 0:12:01\n",
      "Batch    50 of    75.     Elapsed: 0:14:23\n",
      "Batch    60 of    75.     Elapsed: 0:16:45\n",
      "Batch    70 of    75.     Elapsed: 0:19:06\n",
      "   Average training loss: 1.00\n",
      "   Training epoch took: 0:20:10\n",
      "Running Validation...\n",
      "   Accuracy: 0.60\n",
      "   Validation took: 0:01:01\n",
      "======= Epoch 2 / 5 =======\n",
      "Training...\n",
      "Batch    10 of    75.     Elapsed: 0:02:25\n",
      "Batch    20 of    75.     Elapsed: 0:04:51\n",
      "Batch    30 of    75.     Elapsed: 0:07:18\n",
      "Batch    40 of    75.     Elapsed: 0:09:41\n",
      "Batch    50 of    75.     Elapsed: 0:12:06\n",
      "Batch    60 of    75.     Elapsed: 0:14:32\n",
      "Batch    70 of    75.     Elapsed: 0:16:56\n",
      "   Average training loss: 0.81\n",
      "   Training epoch took: 0:18:00\n",
      "Running Validation...\n",
      "   Accuracy: 0.64\n",
      "   Validation took: 0:01:01\n",
      "======= Epoch 3 / 5 =======\n",
      "Training...\n",
      "Batch    10 of    75.     Elapsed: 0:02:22\n",
      "Batch    20 of    75.     Elapsed: 0:04:44\n",
      "Batch    30 of    75.     Elapsed: 0:07:07\n",
      "Batch    40 of    75.     Elapsed: 0:09:28\n",
      "Batch    50 of    75.     Elapsed: 0:11:49\n",
      "Batch    60 of    75.     Elapsed: 0:14:10\n",
      "Batch    70 of    75.     Elapsed: 0:16:32\n",
      "   Average training loss: 0.67\n",
      "   Training epoch took: 0:17:36\n",
      "Running Validation...\n",
      "   Accuracy: 0.65\n",
      "   Validation took: 0:00:59\n",
      "======= Epoch 4 / 5 =======\n",
      "Training...\n",
      "Batch    10 of    75.     Elapsed: 0:02:21\n",
      "Batch    20 of    75.     Elapsed: 0:04:39\n",
      "Batch    30 of    75.     Elapsed: 0:07:02\n",
      "Batch    40 of    75.     Elapsed: 0:09:30\n",
      "Batch    50 of    75.     Elapsed: 0:24:01\n",
      "Batch    60 of    75.     Elapsed: 0:26:23\n",
      "Batch    70 of    75.     Elapsed: 0:28:46\n",
      "   Average training loss: 0.56\n",
      "   Training epoch took: 0:29:50\n",
      "Running Validation...\n",
      "   Accuracy: 0.68\n",
      "   Validation took: 0:00:59\n",
      "======= Epoch 5 / 5 =======\n",
      "Training...\n",
      "Batch    10 of    75.     Elapsed: 0:02:23\n",
      "Batch    20 of    75.     Elapsed: 0:04:45\n",
      "Batch    30 of    75.     Elapsed: 0:07:11\n",
      "Batch    40 of    75.     Elapsed: 0:09:34\n",
      "Batch    50 of    75.     Elapsed: 0:11:54\n",
      "Batch    60 of    75.     Elapsed: 0:14:15\n",
      "Batch    70 of    75.     Elapsed: 0:16:34\n",
      "   Average training loss: 0.49\n",
      "   Training epoch took: 0:17:38\n",
      "Running Validation...\n",
      "   Accuracy: 0.65\n",
      "   Validation took: 0:00:57\n",
      "Training complete!\n"
     ]
    }
   ],
   "source": [
    "import random\n",
    "\n",
    "seed_val = 42\n",
    "\n",
    "random.seed(seed_val)\n",
    "np.random.seed(seed_val)\n",
    "torch.manual_seed(seed_val)\n",
    "\n",
    "loss_values = []\n",
    "\n",
    "for epoch_i in range(0, epochs):\n",
    "\n",
    "#Training time\n",
    "  print(\"======= Epoch {:} / {:} =======\".format(epoch_i+1, epochs))\n",
    "  print(\"Training...\")\n",
    "\n",
    "  t0 = time.time()\n",
    "\n",
    "  total_loss = 0\n",
    "#only to prepare the model in a state of where it's ready for training\n",
    "  model.train()\n",
    "\n",
    "  #for each batch of training data\n",
    "  for step, batch in enumerate(train_dataloader):\n",
    "    \n",
    "    #progress update every 10 batches\n",
    "    if step % 10 == 0 and not step == 0:\n",
    "      elapsed = format_time(time.time() - t0)\n",
    "\n",
    "      print(\"Batch {:>5,} of {:>5,}.     Elapsed: {:}\".format(step, len(train_dataloader), elapsed))\n",
    "    \n",
    "    b_input_ids = batch[0].to(device)\n",
    "    b_input_mask = batch[1].to(device)\n",
    "    b_labels = batch[2].to(device)\n",
    "\n",
    "    model.zero_grad()\n",
    "\n",
    "    outputs = model(b_input_ids,\n",
    "                    token_type_ids=None,\n",
    "                    attention_mask=b_input_mask,\n",
    "                    labels=b_labels)\n",
    "    \n",
    "    loss = outputs[0]\n",
    "    total_loss += loss.item()\n",
    "    loss.backward()\n",
    "    torch.nn.utils.clip_grad_norm_(model.parameters(), 1.0)\n",
    "    optimizer.step()\n",
    "    scheduler.step()\n",
    "\n",
    "  avg_train_loss = total_loss / len(train_dataloader)\n",
    "  loss_values.append(avg_train_loss)\n",
    "\n",
    "  print(\"   Average training loss: {0:.2f}\".format(avg_train_loss))\n",
    "  print(\"   Training epoch took: {:}\".format(format_time(time.time() - t0)))\n",
    "\n",
    "#validation time\n",
    "  print(\"Running Validation...\")\n",
    "  t0 = time.time()\n",
    "  model.eval()\n",
    "  eval_loss, eval_accuracy = 0, 0\n",
    "  nb_eval_steps, nb_eval_examples = 0, 0\n",
    "\n",
    "  for batch in validation_dataloader:\n",
    "    batch = tuple(t.to(device) for t in batch)\n",
    "    b_input_ids, b_input_mask, b_labels = batch\n",
    "    with torch.no_grad():\n",
    "      outputs = model(b_input_ids,\n",
    "                      token_type_ids=None,\n",
    "                      attention_mask=b_input_mask)\n",
    "    \n",
    "    logits = outputs[0]\n",
    "    logits = logits.detach().cpu().numpy()\n",
    "    label_ids = b_labels.to('cpu').numpy()\n",
    "\n",
    "    tmp_eval_accuracy = flat_accuracy(logits, label_ids)\n",
    "    eval_accuracy += tmp_eval_accuracy\n",
    "    nb_eval_steps += 1\n",
    "  \n",
    "  print(\"   Accuracy: {0:.2f}\".format(eval_accuracy/nb_eval_steps))\n",
    "  print(\"   Validation took: {:}\".format(format_time(time.time() - t0)))\n",
    "\n",
    "print(\"Training complete!\")"
   ]
  },
  {
   "cell_type": "code",
   "execution_count": 44,
   "id": "86d472d9-925a-4792-bb0d-81bd51156fb7",
   "metadata": {},
   "outputs": [
    {
     "data": {
      "image/png": "[encoded data removed]",
      "text/plain": [
       "<Figure size 1200x600 with 1 Axes>"
      ]
     },
     "metadata": {},
     "output_type": "display_data"
    }
   ],
   "source": [
    "%matplotlib inline\n",
    "import matplotlib.pyplot as plt\n",
    "\n",
    "\n",
    "#plotting will be continued once this thing is done training bro\n",
    "import seaborn as sns\n",
    "\n",
    "sns.set(style='darkgrid')\n",
    "\n",
    "sns.set(font_scale=1.5)\n",
    "plt.rcParams[\"figure.figsize\"] = (12,6)\n",
    "\n",
    "plt.plot(loss_values, 'b-o')\n",
    "\n",
    "plt.title(\"Training loss\")\n",
    "plt.xlabel(\"Epoch\")\n",
    "plt.ylabel(\"Loss\")\n",
    "\n",
    "plt.show()"
   ]
  },
  {
   "cell_type": "code",
   "execution_count": 45,
   "id": "3adf3aa0-533d-48c2-8885-d7e4ff3fe532",
   "metadata": {},
   "outputs": [
    {
     "name": "stdout",
     "output_type": "stream",
     "text": [
      "Predicting labels for 312 test sentences\n",
      "finally??? done!!!!\n"
     ]
    }
   ],
   "source": [
    "print(\"Predicting labels for {:,} test sentences\".format(len(test_input)))\n",
    "\n",
    "model.eval()\n",
    "\n",
    "prediction, true_labels = [], []\n",
    "\n",
    "for batch in test_dataloader:\n",
    "  batch = tuple(t.to(device) for t in batch)\n",
    "\n",
    "  b_input_ids, b_input_mask, b_labels = batch\n",
    "\n",
    "  with torch.no_grad():\n",
    "    outputs = model(b_input_ids,\n",
    "                    token_type_ids=None,\n",
    "                    attention_mask=b_input_mask)\n",
    "    \n",
    "  logits = outputs[0]\n",
    "\n",
    "  logits = logits.detach().cpu().numpy()\n",
    "  label_ids = b_labels.to('cpu').numpy()\n",
    "\n",
    "  prediction.append(logits)\n",
    "  true_labels.append(label_ids)\n",
    "\n",
    "print(\"finally??? done!!!!\")"
   ]
  },
  {
   "cell_type": "code",
   "execution_count": 46,
   "id": "c526acc2-c923-4e17-8b61-d2456f5e4f60",
   "metadata": {},
   "outputs": [
    {
     "name": "stdout",
     "output_type": "stream",
     "text": [
      "     Predicted_Labels  True_Labels\n",
      "0                   2            2\n",
      "1                   2            2\n",
      "2                   2            2\n",
      "3                   0            2\n",
      "4                   2            2\n",
      "..                ...          ...\n",
      "307                 2            2\n",
      "308                 0            0\n",
      "309                 0            0\n",
      "310                 2            2\n",
      "311                 1            1\n",
      "\n",
      "[312 rows x 2 columns]\n"
     ]
    }
   ],
   "source": [
    "import numpy as np\n",
    "import pandas as pd\n",
    "\n",
    "# Assuming prediction and true_labels are lists\n",
    "\n",
    "# Convert lists to NumPy arrays\n",
    "prediction_array = np.concatenate(prediction, axis=0)\n",
    "true_labels_array = np.concatenate(true_labels, axis=0)\n",
    "\n",
    "# Create a DataFrame\n",
    "df = pd.DataFrame({\n",
    "    'Predicted_Labels': np.argmax(prediction_array, axis=1), \n",
    "    'True_Labels': true_labels_array\n",
    "})\n",
    "\n",
    "# Display the DataFrame\n",
    "print(df)"
   ]
  },
  {
   "cell_type": "code",
   "execution_count": 47,
   "id": "ff9bac89-cc53-4359-baa5-edbe1977bc49",
   "metadata": {},
   "outputs": [
    {
     "name": "stdout",
     "output_type": "stream",
     "text": [
      "MATTHEWS_CC: 0.487\n",
      "ACCURACY: 0.686\n",
      "PRECISION: 0.674\n",
      "RECALL: 0.686\n",
      "F1 SCORE: 0.678\n"
     ]
    }
   ],
   "source": [
    "from sklearn.metrics import matthews_corrcoef, accuracy_score, precision_score, recall_score, f1_score\n",
    "\n",
    "\n",
    "#convert lists to NumPy arrays\n",
    "flat_prediction = np.concatenate(prediction, axis=0)\n",
    "flat_true_labels = np.concatenate(true_labels, axis=0)\n",
    "\n",
    "#calculate Matthews Correlation Coefficient\n",
    "mcc = matthews_corrcoef(flat_true_labels, np.argmax(flat_prediction, axis=1))\n",
    "\n",
    "print(\"MATTHEWS_CC: %.3f\" % mcc)\n",
    "\n",
    "#calculate Accuracy\n",
    "acc = accuracy_score(flat_true_labels, np.argmax(flat_prediction, axis=1))\n",
    "\n",
    "print(\"ACCURACY: %.3f\" % acc)\n",
    "\n",
    "#calculate Precision\n",
    "precision = precision_score(flat_true_labels, np.argmax(flat_prediction, axis=1), average='weighted')\n",
    "\n",
    "print(\"PRECISION: %.3f\" % precision)\n",
    "\n",
    "#calculate Recall\n",
    "recall = recall_score(flat_true_labels, np.argmax(flat_prediction, axis=1), average='weighted')\n",
    "\n",
    "print(\"RECALL: %.3f\" % recall)\n",
    "\n",
    "#calculate F1-Score\n",
    "f1 = f1_score(flat_true_labels, np.argmax(flat_prediction, axis=1), average='weighted')\n",
    "\n",
    "print(\"F1 SCORE: %.3f\" % f1)"
   ]
  },
  {
   "cell_type": "code",
   "execution_count": 48,
   "id": "16fab2c6-a7cf-484f-b623-2e6c3757f699",
   "metadata": {},
   "outputs": [
    {
     "name": "stdout",
     "output_type": "stream",
     "text": [
      "Overall Accuracy: 68.59%\n",
      "Correct 0 predictions: 65/99\n",
      "Correct 1 predictions: 20/61\n",
      "Correct 2 predictions: 129/152\n"
     ]
    }
   ],
   "source": [
    "import pandas as pd\n",
    "from sklearn.metrics import accuracy_score\n",
    "\n",
    "#add a column to df indicating whether the prediction is correct\n",
    "df['Correct_Prediction'] = df['True_Labels'] == df['Predicted_Labels']\n",
    "\n",
    "#calculate accuracy\n",
    "accuracy = accuracy_score(df['True_Labels'], df['Predicted_Labels'])\n",
    "print(\"Overall Accuracy: {:.2%}\".format(accuracy))\n",
    "\n",
    "#amount of correct predictions for each sentiment class\n",
    "for sentiment_class in [0, 1, 2]:  #0 for negative, 1 for neutral, 2 for positive\n",
    "    correct_predictions = df[df['Correct_Prediction'] & (df['True_Labels'] == sentiment_class)].shape[0]\n",
    "    total_samples = df[df['True_Labels'] == sentiment_class].shape[0]\n",
    "    print(\"Correct {} predictions: {}/{}\".format(sentiment_class, correct_predictions, total_samples))"
   ]
  },
  {
   "cell_type": "code",
   "execution_count": 49,
   "id": "0408f42e-ecd6-429a-8a23-6e31a39a7871",
   "metadata": {},
   "outputs": [
    {
     "data": {
      "text/html": [
       "<div>\n",
       "<style scoped>\n",
       "    .dataframe tbody tr th:only-of-type {\n",
       "        vertical-align: middle;\n",
       "    }\n",
       "\n",
       "    .dataframe tbody tr th {\n",
       "        vertical-align: top;\n",
       "    }\n",
       "\n",
       "    .dataframe thead th {\n",
       "        text-align: right;\n",
       "    }\n",
       "</style>\n",
       "<table border=\"1\" class=\"dataframe\">\n",
       "  <thead>\n",
       "    <tr style=\"text-align: right;\">\n",
       "      <th></th>\n",
       "      <th>Predicted_Labels</th>\n",
       "      <th>True_Labels</th>\n",
       "      <th>Correct_Prediction</th>\n",
       "    </tr>\n",
       "  </thead>\n",
       "  <tbody>\n",
       "    <tr>\n",
       "      <th>0</th>\n",
       "      <td>2</td>\n",
       "      <td>2</td>\n",
       "      <td>True</td>\n",
       "    </tr>\n",
       "    <tr>\n",
       "      <th>1</th>\n",
       "      <td>2</td>\n",
       "      <td>2</td>\n",
       "      <td>True</td>\n",
       "    </tr>\n",
       "    <tr>\n",
       "      <th>2</th>\n",
       "      <td>2</td>\n",
       "      <td>2</td>\n",
       "      <td>True</td>\n",
       "    </tr>\n",
       "    <tr>\n",
       "      <th>3</th>\n",
       "      <td>0</td>\n",
       "      <td>2</td>\n",
       "      <td>False</td>\n",
       "    </tr>\n",
       "    <tr>\n",
       "      <th>4</th>\n",
       "      <td>2</td>\n",
       "      <td>2</td>\n",
       "      <td>True</td>\n",
       "    </tr>\n",
       "    <tr>\n",
       "      <th>5</th>\n",
       "      <td>0</td>\n",
       "      <td>0</td>\n",
       "      <td>True</td>\n",
       "    </tr>\n",
       "    <tr>\n",
       "      <th>6</th>\n",
       "      <td>2</td>\n",
       "      <td>2</td>\n",
       "      <td>True</td>\n",
       "    </tr>\n",
       "    <tr>\n",
       "      <th>7</th>\n",
       "      <td>2</td>\n",
       "      <td>1</td>\n",
       "      <td>False</td>\n",
       "    </tr>\n",
       "    <tr>\n",
       "      <th>8</th>\n",
       "      <td>0</td>\n",
       "      <td>0</td>\n",
       "      <td>True</td>\n",
       "    </tr>\n",
       "    <tr>\n",
       "      <th>9</th>\n",
       "      <td>2</td>\n",
       "      <td>2</td>\n",
       "      <td>True</td>\n",
       "    </tr>\n",
       "  </tbody>\n",
       "</table>\n",
       "</div>"
      ],
      "text/plain": [
       "   Predicted_Labels  True_Labels  Correct_Prediction\n",
       "0                 2            2                True\n",
       "1                 2            2                True\n",
       "2                 2            2                True\n",
       "3                 0            2               False\n",
       "4                 2            2                True\n",
       "5                 0            0                True\n",
       "6                 2            2                True\n",
       "7                 2            1               False\n",
       "8                 0            0                True\n",
       "9                 2            2                True"
      ]
     },
     "execution_count": 49,
     "metadata": {},
     "output_type": "execute_result"
    }
   ],
   "source": [
    "df.head(10)"
   ]
  },
  {
   "cell_type": "code",
   "execution_count": 50,
   "id": "c4516ac4-298d-4ffd-a983-55ceee2b8dc6",
   "metadata": {},
   "outputs": [
    {
     "data": {
      "text/html": [
       "<div>\n",
       "<style scoped>\n",
       "    .dataframe tbody tr th:only-of-type {\n",
       "        vertical-align: middle;\n",
       "    }\n",
       "\n",
       "    .dataframe tbody tr th {\n",
       "        vertical-align: top;\n",
       "    }\n",
       "\n",
       "    .dataframe thead th {\n",
       "        text-align: right;\n",
       "    }\n",
       "</style>\n",
       "<table border=\"1\" class=\"dataframe\">\n",
       "  <thead>\n",
       "    <tr style=\"text-align: right;\">\n",
       "      <th></th>\n",
       "      <th>Predicted_Labels</th>\n",
       "      <th>True_Labels</th>\n",
       "    </tr>\n",
       "  </thead>\n",
       "  <tbody>\n",
       "    <tr>\n",
       "      <th>0</th>\n",
       "      <td>2</td>\n",
       "      <td>2</td>\n",
       "    </tr>\n",
       "    <tr>\n",
       "      <th>1</th>\n",
       "      <td>2</td>\n",
       "      <td>2</td>\n",
       "    </tr>\n",
       "    <tr>\n",
       "      <th>2</th>\n",
       "      <td>2</td>\n",
       "      <td>2</td>\n",
       "    </tr>\n",
       "    <tr>\n",
       "      <th>3</th>\n",
       "      <td>0</td>\n",
       "      <td>2</td>\n",
       "    </tr>\n",
       "    <tr>\n",
       "      <th>4</th>\n",
       "      <td>2</td>\n",
       "      <td>2</td>\n",
       "    </tr>\n",
       "    <tr>\n",
       "      <th>5</th>\n",
       "      <td>0</td>\n",
       "      <td>0</td>\n",
       "    </tr>\n",
       "    <tr>\n",
       "      <th>6</th>\n",
       "      <td>2</td>\n",
       "      <td>2</td>\n",
       "    </tr>\n",
       "    <tr>\n",
       "      <th>7</th>\n",
       "      <td>2</td>\n",
       "      <td>1</td>\n",
       "    </tr>\n",
       "    <tr>\n",
       "      <th>8</th>\n",
       "      <td>0</td>\n",
       "      <td>0</td>\n",
       "    </tr>\n",
       "    <tr>\n",
       "      <th>9</th>\n",
       "      <td>2</td>\n",
       "      <td>2</td>\n",
       "    </tr>\n",
       "  </tbody>\n",
       "</table>\n",
       "</div>"
      ],
      "text/plain": [
       "   Predicted_Labels  True_Labels\n",
       "0                 2            2\n",
       "1                 2            2\n",
       "2                 2            2\n",
       "3                 0            2\n",
       "4                 2            2\n",
       "5                 0            0\n",
       "6                 2            2\n",
       "7                 2            1\n",
       "8                 0            0\n",
       "9                 2            2"
      ]
     },
     "execution_count": 50,
     "metadata": {},
     "output_type": "execute_result"
    }
   ],
   "source": [
    "#drop the 'Correct_Prediction' column if not needed\n",
    "df = df.drop(columns=['Correct_Prediction'])\n",
    "df.head(10)"
   ]
  },
  {
   "cell_type": "code",
   "execution_count": null,
   "id": "004147b9-e47f-4e01-a24d-ea6f45d20e65",
   "metadata": {},
   "outputs": [],
   "source": []
  },
  {
   "cell_type": "code",
   "execution_count": null,
   "id": "12778cc2-1d78-4729-8f76-72aeac4083d7",
   "metadata": {},
   "outputs": [],
   "source": []
  }
 ],
 "metadata": {
  "kernelspec": {
   "display_name": "Python 3 (ipykernel)",
   "language": "python",
   "name": "python3"
  },
  "language_info": {
   "codemirror_mode": {
    "name": "ipython",
    "version": 3
   },
   "file_extension": ".py",
   "mimetype": "text/x-python",
   "name": "python",
   "nbconvert_exporter": "python",
   "pygments_lexer": "ipython3",
   "version": "3.10.0"
  }
 },
 "nbformat": 4,
 "nbformat_minor": 5
}
