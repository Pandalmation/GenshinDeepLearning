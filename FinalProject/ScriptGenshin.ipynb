{
  "nbformat": 4,
  "nbformat_minor": 0,
  "metadata": {
    "colab": {
      "provenance": []
    },
    "kernelspec": {
      "name": "python3",
      "display_name": "Python 3"
    },
    "language_info": {
      "name": "python"
    }
  },
  "cells": [
    {
      "cell_type": "code",
      "source": [
        "from google.colab import drive\n",
        "drive.mount('/content/drive')"
      ],
      "metadata": {
        "colab": {
          "base_uri": "https://localhost:8080/"
        },
        "id": "R6Ngub14paqa",
        "outputId": "5c952bb0-2eed-41a7-8349-c210975ad4d8"
      },
      "execution_count": null,
      "outputs": [
        {
          "output_type": "stream",
          "name": "stdout",
          "text": [
            "Mounted at /content/drive\n"
          ]
        }
      ]
    },
    {
      "cell_type": "code",
      "source": [
        "from transformers import AutoModelForSequenceClassification, AutoTokenizer\n",
        "\n",
        "#Load the model\n",
        "#Just change the path accordingly, im using drive lol\n",
        "model = AutoModelForSequenceClassification.from_pretrained('/content/drive/My Drive/GenshinModel_save/')\n",
        "\n",
        "#Load the tokenizer\n",
        "tokenizer = AutoTokenizer.from_pretrained('/content/drive/My Drive/GenshinModel_save/')"
      ],
      "metadata": {
        "id": "fxbh2fstpgwX"
      },
      "execution_count": null,
      "outputs": []
    },
    {
      "cell_type": "code",
      "execution_count": null,
      "metadata": {
        "colab": {
          "base_uri": "https://localhost:8080/"
        },
        "id": "ztm1y6qboZJC",
        "outputId": "d77dffb1-b2d9-4e78-ae65-05f0c9316346"
      },
      "outputs": [
        {
          "output_type": "stream",
          "name": "stdout",
          "text": [
            "Enter your review text: i hate it but i also love it at the same time. You know what? I think i love it\n",
            "Predicted Sentiment: 2\n",
            "Predicted Label: POSITIVE\n"
          ]
        }
      ],
      "source": [
        "import torch\n",
        "from transformers import AutoTokenizer, AutoModelForSequenceClassification\n",
        "\n",
        "device = torch.device(\"cuda\" if torch.cuda.is_available() else \"cpu\")\n",
        "\n",
        "def test_review(review_text, model, tokenizer, max_length):\n",
        "   #tokenize and preprocess the review\n",
        "    encoded_review = tokenizer.encode_plus(\n",
        "        review_text,\n",
        "        add_special_tokens=True,\n",
        "        max_length=max_length,\n",
        "        padding='max_length',\n",
        "        truncation=True,\n",
        "        return_tensors='pt'\n",
        "    )\n",
        "    #extract token IDs and attention mask\n",
        "    input_ids = encoded_review['input_ids']\n",
        "    attention_mask = encoded_review['attention_mask']\n",
        "\n",
        "    #ensure the tensors are on the appropriate device\n",
        "    input_ids = input_ids.to(device)\n",
        "    attention_mask = attention_mask.to(device)\n",
        "\n",
        "    #make predictions using the model\n",
        "    with torch.no_grad():\n",
        "        outputs = model(input_ids, attention_mask=attention_mask)\n",
        "        logits = outputs.logits\n",
        "\n",
        "    #get the predicted sentiment (argmax of the logits)\n",
        "    predicted_sentiment = torch.argmax(logits, dim=1).item()\n",
        "\n",
        "    #map predicted label to sentiment category (0: negative, 1: neutral, 2: positive)\n",
        "    sentiment_mapping = {0: \"NEGATIVE\", 1: \"NEUTRAL\", 2: \"POSITIVE\"}\n",
        "    predicted_label= sentiment_mapping[predicted_sentiment]\n",
        "\n",
        "    return predicted_sentiment, predicted_label\n",
        "\n",
        "#Ask the user for input\n",
        "review_text = input(\"Enter your review text: \")\n",
        "\n",
        "#Example usage\n",
        "predicted_sentiment, predicted_label = test_review(review_text, model, tokenizer, max_length=64)\n",
        "print(\"Predicted Sentiment:\", predicted_sentiment)\n",
        "print(\"Predicted Label:\", predicted_label)"
      ]
    }
  ]
}