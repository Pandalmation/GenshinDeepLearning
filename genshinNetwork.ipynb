{
 "cells": [
  {
   "cell_type": "code",
   "execution_count": 149,
   "id": "3492cd7f-bf83-4171-9a69-4f4f1281bb26",
   "metadata": {},
   "outputs": [],
   "source": [
    "import pandas as pd\n",
    "import json \n",
    "import networkx as nx\n",
    "import matplotlib.pyplot as plt\n",
    "import seaborn as sns"
   ]
  },
  {
   "cell_type": "code",
   "execution_count": 150,
   "id": "b7f61a6b-ab82-4f47-bbd6-efd578550e99",
   "metadata": {},
   "outputs": [],
   "source": [
    "nodes = json.load(open('./node_list.json', 'rb'))\n",
    "edges = json.load(open('./edge_list.json', 'rb'))"
   ]
  },
  {
   "cell_type": "code",
   "execution_count": 151,
   "id": "308696e1-33b8-4713-8e0f-29b8318446b1",
   "metadata": {},
   "outputs": [],
   "source": [
    "DirectG = nx.DiGraph()"
   ]
  },
  {
   "cell_type": "code",
   "execution_count": 152,
   "id": "ab852351-8821-4c4d-a042-fae82b779600",
   "metadata": {},
   "outputs": [
    {
     "data": {
      "text/plain": [
       "[None,\n",
       " None,\n",
       " None,\n",
       " None,\n",
       " None,\n",
       " None,\n",
       " None,\n",
       " None,\n",
       " None,\n",
       " None,\n",
       " None,\n",
       " None,\n",
       " None,\n",
       " None,\n",
       " None,\n",
       " None,\n",
       " None,\n",
       " None,\n",
       " None,\n",
       " None,\n",
       " None,\n",
       " None,\n",
       " None,\n",
       " None,\n",
       " None,\n",
       " None,\n",
       " None,\n",
       " None,\n",
       " None,\n",
       " None,\n",
       " None,\n",
       " None,\n",
       " None,\n",
       " None,\n",
       " None,\n",
       " None,\n",
       " None,\n",
       " None,\n",
       " None,\n",
       " None,\n",
       " None,\n",
       " None,\n",
       " None,\n",
       " None,\n",
       " None,\n",
       " None,\n",
       " None,\n",
       " None,\n",
       " None,\n",
       " None,\n",
       " None,\n",
       " None,\n",
       " None,\n",
       " None,\n",
       " None,\n",
       " None,\n",
       " None,\n",
       " None,\n",
       " None,\n",
       " None,\n",
       " None,\n",
       " None,\n",
       " None,\n",
       " None,\n",
       " None,\n",
       " None,\n",
       " None,\n",
       " None,\n",
       " None,\n",
       " None,\n",
       " None,\n",
       " None,\n",
       " None]"
      ]
     },
     "execution_count": 152,
     "metadata": {},
     "output_type": "execute_result"
    }
   ],
   "source": [
    "[DirectG.add_node(n[\"id\"], nation=n[\"nation\"]) for n in nodes]"
   ]
  },
  {
   "cell_type": "code",
   "execution_count": 145,
   "id": "410d18b4-a210-4e46-9a45-ce32ad53f0a5",
   "metadata": {},
   "outputs": [],
   "source": [
    "[DirectG.add_edge(edge['From'], edge['to'], type=edge['type']) for edge in edges];"
   ]
  },
  {
   "cell_type": "code",
   "execution_count": 146,
   "id": "912c0976-658e-4fc3-9e66-9839d57c92e1",
   "metadata": {},
   "outputs": [],
   "source": [
    "#NODE Colors\n",
    "color_mapping= {\n",
    "    \"Mondstadt\" : \"#aff8db\",\n",
    "    \"Liyue\": \"#ffcbc1\",\n",
    "    \"Inazuma\" : \"#d5aaff\",\n",
    "    \"Snezhnaya\": \"#ace7ff\", \n",
    "    \"Sumeru\" : \"#175721\",\n",
    "    \"Fontaine\" : \"#008CFF\"\n",
    "}"
   ]
  },
  {
   "cell_type": "code",
   "execution_count": 147,
   "id": "545a42b4-1a34-40a6-8b43-fc2cd6057141",
   "metadata": {},
   "outputs": [],
   "source": [
    "node_colors = [color_mapping.get(n[1].get(\"nation\", \"#d1d1d1\")) for n in list(DirectG.nodes(data=True))]"
   ]
  },
  {
   "cell_type": "code",
   "execution_count": 148,
   "id": "4b689fb4-5ef5-4c69-a379-a02a75ef1b9a",
   "metadata": {
    "scrolled": true
   },
   "outputs": [
    {
     "ename": "KeyError",
     "evalue": "'nation'",
     "output_type": "error",
     "traceback": [
      "\u001b[1;31m---------------------------------------------------------------------------\u001b[0m",
      "\u001b[1;31mKeyError\u001b[0m                                  Traceback (most recent call last)",
      "Cell \u001b[1;32mIn[148], line 1\u001b[0m\n\u001b[1;32m----> 1\u001b[0m node_colors\u001b[38;5;241m=\u001b[39m [color_mapping[n[\u001b[38;5;241m1\u001b[39m][\u001b[38;5;124m\"\u001b[39m\u001b[38;5;124mnation\u001b[39m\u001b[38;5;124m\"\u001b[39m]] \u001b[38;5;28;01mif\u001b[39;00m n[\u001b[38;5;241m1\u001b[39m][\u001b[38;5;124m\"\u001b[39m\u001b[38;5;124mnation\u001b[39m\u001b[38;5;124m\"\u001b[39m] \u001b[38;5;129;01min\u001b[39;00m color_mapping\u001b[38;5;241m.\u001b[39mkeys() \u001b[38;5;28;01melse\u001b[39;00m \u001b[38;5;124m\"\u001b[39m\u001b[38;5;124m#d1d1d1\u001b[39m\u001b[38;5;124m\"\u001b[39m \u001b[38;5;28;01mfor\u001b[39;00m n \u001b[38;5;129;01min\u001b[39;00m \u001b[38;5;28mlist\u001b[39m(DirectG\u001b[38;5;241m.\u001b[39mnodes(data\u001b[38;5;241m=\u001b[39m\u001b[38;5;28;01mTrue\u001b[39;00m))]\n",
      "Cell \u001b[1;32mIn[148], line 1\u001b[0m, in \u001b[0;36m<listcomp>\u001b[1;34m(.0)\u001b[0m\n\u001b[1;32m----> 1\u001b[0m node_colors\u001b[38;5;241m=\u001b[39m [color_mapping[n[\u001b[38;5;241m1\u001b[39m][\u001b[38;5;124m\"\u001b[39m\u001b[38;5;124mnation\u001b[39m\u001b[38;5;124m\"\u001b[39m]] \u001b[38;5;28;01mif\u001b[39;00m \u001b[43mn\u001b[49m\u001b[43m[\u001b[49m\u001b[38;5;241;43m1\u001b[39;49m\u001b[43m]\u001b[49m\u001b[43m[\u001b[49m\u001b[38;5;124;43m\"\u001b[39;49m\u001b[38;5;124;43mnation\u001b[39;49m\u001b[38;5;124;43m\"\u001b[39;49m\u001b[43m]\u001b[49m \u001b[38;5;129;01min\u001b[39;00m color_mapping\u001b[38;5;241m.\u001b[39mkeys() \u001b[38;5;28;01melse\u001b[39;00m \u001b[38;5;124m\"\u001b[39m\u001b[38;5;124m#d1d1d1\u001b[39m\u001b[38;5;124m\"\u001b[39m \u001b[38;5;28;01mfor\u001b[39;00m n \u001b[38;5;129;01min\u001b[39;00m \u001b[38;5;28mlist\u001b[39m(DirectG\u001b[38;5;241m.\u001b[39mnodes(data\u001b[38;5;241m=\u001b[39m\u001b[38;5;28;01mTrue\u001b[39;00m))]\n",
      "\u001b[1;31mKeyError\u001b[0m: 'nation'"
     ]
    }
   ],
   "source": [
    "node_colors= [color_mapping[n[1][\"nation\"]] if n[1][\"nation\"] in color_mapping.keys() else \"#d1d1d1\" for n in list(DirectG.nodes(data=True))]"
   ]
  },
  {
   "cell_type": "code",
   "execution_count": 134,
   "id": "6eb6befd-9dbc-4591-acb9-a442bba29736",
   "metadata": {},
   "outputs": [],
   "source": [
    "# position, so nodes in draw take on same positions, generally\n",
    "pos = nx.spring_layout(DirectG, k=0.25, iterations=25)"
   ]
  },
  {
   "cell_type": "code",
   "execution_count": null,
   "id": "6861ac68-0ed5-48ac-a5e2-89306417a4eb",
   "metadata": {},
   "outputs": [],
   "source": []
  }
 ],
 "metadata": {
  "kernelspec": {
   "display_name": "Python 3 (ipykernel)",
   "language": "python",
   "name": "python3"
  },
  "language_info": {
   "codemirror_mode": {
    "name": "ipython",
    "version": 3
   },
   "file_extension": ".py",
   "mimetype": "text/x-python",
   "name": "python",
   "nbconvert_exporter": "python",
   "pygments_lexer": "ipython3",
   "version": "3.10.0"
  }
 },
 "nbformat": 4,
 "nbformat_minor": 5
}
